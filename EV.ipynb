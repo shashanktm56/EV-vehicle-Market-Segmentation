{
 "cells": [
  {
   "cell_type": "code",
   "execution_count": 57,
   "id": "a4b444df-ffbf-4c77-b573-0438dd17f880",
   "metadata": {},
   "outputs": [],
   "source": [
    "# INDIAN EV DATA"
   ]
  },
  {
   "cell_type": "code",
   "execution_count": 1,
   "id": "97d781f1-9d28-4bf3-8b82-69f67ccd59cb",
   "metadata": {},
   "outputs": [],
   "source": [
    "# importing nessesery libraries"
   ]
  },
  {
   "cell_type": "code",
   "execution_count": 17,
   "id": "1ae8cd14-ce1c-41a3-b146-4c0d2fc0bb28",
   "metadata": {},
   "outputs": [],
   "source": [
    "import pandas as pd\n",
    "import matplotlib.pyplot as plt\n",
    "import seaborn as sns\n",
    "import warnings\n",
    "\n",
    "# Ignore all warnings\n",
    "warnings.filterwarnings(\"ignore\")\n",
    "from sklearn.cluster import KMeans\n",
    "from sklearn.metrics import silhouette_score\n",
    "from sklearn.metrics import davies_bouldin_score\n",
    "from sklearn.cluster import DBSCAN\n",
    "from sklearn.mixture import GaussianMixture\n",
    "from sklearn.decomposition import PCA\n",
    "import numpy as np\n",
    "from sklearn.preprocessing import StandardScaler\n",
    "from sklearn.metrics import silhouette_score"
   ]
  },
  {
   "cell_type": "code",
   "execution_count": 18,
   "id": "f20c0ba4-bb76-49c6-9f56-6c9a2434cf2d",
   "metadata": {},
   "outputs": [],
   "source": [
    "ev=pd.read_csv('indian-ev-data.csv')"
   ]
  },
  {
   "cell_type": "code",
   "execution_count": 19,
   "id": "9db81d9f-a9ac-47e7-afe9-f338ba001017",
   "metadata": {},
   "outputs": [
    {
     "data": {
      "text/html": [
       "<div>\n",
       "<style scoped>\n",
       "    .dataframe tbody tr th:only-of-type {\n",
       "        vertical-align: middle;\n",
       "    }\n",
       "\n",
       "    .dataframe tbody tr th {\n",
       "        vertical-align: top;\n",
       "    }\n",
       "\n",
       "    .dataframe thead th {\n",
       "        text-align: right;\n",
       "    }\n",
       "</style>\n",
       "<table border=\"1\" class=\"dataframe\">\n",
       "  <thead>\n",
       "    <tr style=\"text-align: right;\">\n",
       "      <th></th>\n",
       "      <th>id</th>\n",
       "      <th>Model</th>\n",
       "      <th>Manufacturer</th>\n",
       "      <th>Vehicle Type</th>\n",
       "      <th>Battery Capacity (kWh)</th>\n",
       "      <th>Range per Charge (km)</th>\n",
       "      <th>Charging Time</th>\n",
       "      <th>Price</th>\n",
       "      <th>Power (HP or kW)</th>\n",
       "      <th>Top Speed (km/h)</th>\n",
       "      <th>Year of Manufacture</th>\n",
       "    </tr>\n",
       "  </thead>\n",
       "  <tbody>\n",
       "    <tr>\n",
       "      <th>0</th>\n",
       "      <td>1</td>\n",
       "      <td>Aura 300 Plus</td>\n",
       "      <td>Ather Energy</td>\n",
       "      <td>Scooter</td>\n",
       "      <td>2.9</td>\n",
       "      <td>116</td>\n",
       "      <td>4.5</td>\n",
       "      <td>129000.0</td>\n",
       "      <td>6.0</td>\n",
       "      <td>80.0</td>\n",
       "      <td>2021.0</td>\n",
       "    </tr>\n",
       "    <tr>\n",
       "      <th>1</th>\n",
       "      <td>2</td>\n",
       "      <td>Pure EV Epluto 7G</td>\n",
       "      <td>Pure EV</td>\n",
       "      <td>Scooter</td>\n",
       "      <td>2.7</td>\n",
       "      <td>120</td>\n",
       "      <td>3.0</td>\n",
       "      <td>109000.0</td>\n",
       "      <td>5.0</td>\n",
       "      <td>80.0</td>\n",
       "      <td>2021.0</td>\n",
       "    </tr>\n",
       "    <tr>\n",
       "      <th>2</th>\n",
       "      <td>3</td>\n",
       "      <td>Bajaj Chetak Electric</td>\n",
       "      <td>Bajaj Auto</td>\n",
       "      <td>Scooter</td>\n",
       "      <td>4.0</td>\n",
       "      <td>95</td>\n",
       "      <td>5.0</td>\n",
       "      <td>150000.0</td>\n",
       "      <td>4.0</td>\n",
       "      <td>60.0</td>\n",
       "      <td>2020.0</td>\n",
       "    </tr>\n",
       "    <tr>\n",
       "      <th>3</th>\n",
       "      <td>4</td>\n",
       "      <td>Okinawa iPraise Pro</td>\n",
       "      <td>Okinawa Autotech</td>\n",
       "      <td>Scooter</td>\n",
       "      <td>2.5</td>\n",
       "      <td>100</td>\n",
       "      <td>3.0</td>\n",
       "      <td>85000.0</td>\n",
       "      <td>3.0</td>\n",
       "      <td>60.0</td>\n",
       "      <td>2021.0</td>\n",
       "    </tr>\n",
       "    <tr>\n",
       "      <th>4</th>\n",
       "      <td>5</td>\n",
       "      <td>Hero Electric Opto EV</td>\n",
       "      <td>Hero Motocorp</td>\n",
       "      <td>Scooter</td>\n",
       "      <td>2.2</td>\n",
       "      <td>75</td>\n",
       "      <td>3.0</td>\n",
       "      <td>75000.0</td>\n",
       "      <td>3.0</td>\n",
       "      <td>60.0</td>\n",
       "      <td>2021.0</td>\n",
       "    </tr>\n",
       "  </tbody>\n",
       "</table>\n",
       "</div>"
      ],
      "text/plain": [
       "   id                  Model      Manufacturer Vehicle Type  \\\n",
       "0   1          Aura 300 Plus      Ather Energy      Scooter   \n",
       "1   2      Pure EV Epluto 7G           Pure EV      Scooter   \n",
       "2   3  Bajaj Chetak Electric        Bajaj Auto      Scooter   \n",
       "3   4    Okinawa iPraise Pro  Okinawa Autotech      Scooter   \n",
       "4   5  Hero Electric Opto EV     Hero Motocorp      Scooter   \n",
       "\n",
       "   Battery Capacity (kWh)  Range per Charge (km)  Charging Time     Price  \\\n",
       "0                     2.9                    116            4.5  129000.0   \n",
       "1                     2.7                    120            3.0  109000.0   \n",
       "2                     4.0                     95            5.0  150000.0   \n",
       "3                     2.5                    100            3.0   85000.0   \n",
       "4                     2.2                     75            3.0   75000.0   \n",
       "\n",
       "   Power (HP or kW)  Top Speed (km/h)  Year of Manufacture  \n",
       "0               6.0              80.0               2021.0  \n",
       "1               5.0              80.0               2021.0  \n",
       "2               4.0              60.0               2020.0  \n",
       "3               3.0              60.0               2021.0  \n",
       "4               3.0              60.0               2021.0  "
      ]
     },
     "execution_count": 19,
     "metadata": {},
     "output_type": "execute_result"
    }
   ],
   "source": [
    "ev.head()"
   ]
  },
  {
   "cell_type": "code",
   "execution_count": 20,
   "id": "0dcb9311-9f01-42f9-b8e6-c51c2def8892",
   "metadata": {},
   "outputs": [],
   "source": [
    "#exploratory data analysis"
   ]
  },
  {
   "cell_type": "code",
   "execution_count": 21,
   "id": "c6725eeb-965c-4d73-9fd4-ffcafce16563",
   "metadata": {},
   "outputs": [],
   "source": [
    "# Analysing the datasets"
   ]
  },
  {
   "cell_type": "code",
   "execution_count": 22,
   "id": "f66ef105-9825-4725-afa6-345f8a85c0ae",
   "metadata": {},
   "outputs": [],
   "source": [
    "#shape of the dataset"
   ]
  },
  {
   "cell_type": "code",
   "execution_count": 23,
   "id": "f9a82a6c-87ba-4713-8ece-bf43669b6bfe",
   "metadata": {},
   "outputs": [
    {
     "name": "stdout",
     "output_type": "stream",
     "text": [
      "ev_shape = (50, 11)\n"
     ]
    }
   ],
   "source": [
    "print('ev_shape =',ev.shape)"
   ]
  },
  {
   "cell_type": "code",
   "execution_count": 24,
   "id": "4df51ec4-fc7d-4bf4-b0d8-346b829bb723",
   "metadata": {},
   "outputs": [],
   "source": [
    "#information# checking the info (columns, datatypes, nulls) of the dataset"
   ]
  },
  {
   "cell_type": "code",
   "execution_count": 25,
   "id": "09cd6e71-1b25-4652-8c75-790422cdb2b7",
   "metadata": {},
   "outputs": [
    {
     "name": "stdout",
     "output_type": "stream",
     "text": [
      "<class 'pandas.core.frame.DataFrame'>\n",
      "RangeIndex: 50 entries, 0 to 49\n",
      "Data columns (total 11 columns):\n",
      " #   Column                  Non-Null Count  Dtype  \n",
      "---  ------                  --------------  -----  \n",
      " 0   id                      50 non-null     int64  \n",
      " 1   Model                   50 non-null     object \n",
      " 2   Manufacturer            50 non-null     object \n",
      " 3   Vehicle Type            50 non-null     object \n",
      " 4   Battery Capacity (kWh)  50 non-null     float64\n",
      " 5   Range per Charge (km)   50 non-null     int64  \n",
      " 6   Charging Time           49 non-null     float64\n",
      " 7   Price                   49 non-null     float64\n",
      " 8   Power (HP or kW)        49 non-null     float64\n",
      " 9   Top Speed (km/h)        49 non-null     float64\n",
      " 10  Year of Manufacture     49 non-null     float64\n",
      "dtypes: float64(6), int64(2), object(3)\n",
      "memory usage: 4.4+ KB\n"
     ]
    }
   ],
   "source": [
    "ev.info()"
   ]
  },
  {
   "cell_type": "code",
   "execution_count": 26,
   "id": "4ad16aba-8223-4abc-b6c0-49f7efaf2e73",
   "metadata": {},
   "outputs": [
    {
     "data": {
      "text/plain": [
       "Index(['id', 'Model', 'Manufacturer', 'Vehicle Type', 'Battery Capacity (kWh)',\n",
       "       'Range per Charge (km)', 'Charging Time', 'Price', 'Power (HP or kW)',\n",
       "       'Top Speed (km/h)', 'Year of Manufacture'],\n",
       "      dtype='object')"
      ]
     },
     "execution_count": 26,
     "metadata": {},
     "output_type": "execute_result"
    }
   ],
   "source": [
    "ev.columns"
   ]
  },
  {
   "cell_type": "code",
   "execution_count": 28,
   "id": "a06179ff-f2e4-47e5-889e-0420ccc08d82",
   "metadata": {},
   "outputs": [],
   "source": [
    "# getting a statistical summary of the dataset"
   ]
  },
  {
   "cell_type": "code",
   "execution_count": 29,
   "id": "b8182588-da8d-4c81-9d74-5266f00db602",
   "metadata": {},
   "outputs": [
    {
     "data": {
      "text/html": [
       "<div>\n",
       "<style scoped>\n",
       "    .dataframe tbody tr th:only-of-type {\n",
       "        vertical-align: middle;\n",
       "    }\n",
       "\n",
       "    .dataframe tbody tr th {\n",
       "        vertical-align: top;\n",
       "    }\n",
       "\n",
       "    .dataframe thead th {\n",
       "        text-align: right;\n",
       "    }\n",
       "</style>\n",
       "<table border=\"1\" class=\"dataframe\">\n",
       "  <thead>\n",
       "    <tr style=\"text-align: right;\">\n",
       "      <th></th>\n",
       "      <th>id</th>\n",
       "      <th>Battery Capacity (kWh)</th>\n",
       "      <th>Range per Charge (km)</th>\n",
       "      <th>Charging Time</th>\n",
       "      <th>Price</th>\n",
       "      <th>Power (HP or kW)</th>\n",
       "      <th>Top Speed (km/h)</th>\n",
       "      <th>Year of Manufacture</th>\n",
       "    </tr>\n",
       "  </thead>\n",
       "  <tbody>\n",
       "    <tr>\n",
       "      <th>count</th>\n",
       "      <td>50.00000</td>\n",
       "      <td>50.000000</td>\n",
       "      <td>50.000000</td>\n",
       "      <td>49.000000</td>\n",
       "      <td>49.000000</td>\n",
       "      <td>49.000000</td>\n",
       "      <td>49.000000</td>\n",
       "      <td>49.000000</td>\n",
       "    </tr>\n",
       "    <tr>\n",
       "      <th>mean</th>\n",
       "      <td>25.50000</td>\n",
       "      <td>3.188000</td>\n",
       "      <td>120.160000</td>\n",
       "      <td>3.755102</td>\n",
       "      <td>120469.387755</td>\n",
       "      <td>6.795918</td>\n",
       "      <td>73.775510</td>\n",
       "      <td>2021.204082</td>\n",
       "    </tr>\n",
       "    <tr>\n",
       "      <th>std</th>\n",
       "      <td>14.57738</td>\n",
       "      <td>0.950325</td>\n",
       "      <td>30.370743</td>\n",
       "      <td>0.947158</td>\n",
       "      <td>46317.789078</td>\n",
       "      <td>6.570070</td>\n",
       "      <td>13.288882</td>\n",
       "      <td>0.499149</td>\n",
       "    </tr>\n",
       "    <tr>\n",
       "      <th>min</th>\n",
       "      <td>1.00000</td>\n",
       "      <td>2.200000</td>\n",
       "      <td>75.000000</td>\n",
       "      <td>2.500000</td>\n",
       "      <td>60000.000000</td>\n",
       "      <td>2.000000</td>\n",
       "      <td>50.000000</td>\n",
       "      <td>2020.000000</td>\n",
       "    </tr>\n",
       "    <tr>\n",
       "      <th>25%</th>\n",
       "      <td>13.25000</td>\n",
       "      <td>2.550000</td>\n",
       "      <td>100.000000</td>\n",
       "      <td>3.000000</td>\n",
       "      <td>85000.000000</td>\n",
       "      <td>3.000000</td>\n",
       "      <td>60.000000</td>\n",
       "      <td>2021.000000</td>\n",
       "    </tr>\n",
       "    <tr>\n",
       "      <th>50%</th>\n",
       "      <td>25.50000</td>\n",
       "      <td>2.900000</td>\n",
       "      <td>118.000000</td>\n",
       "      <td>3.500000</td>\n",
       "      <td>109000.000000</td>\n",
       "      <td>5.000000</td>\n",
       "      <td>80.000000</td>\n",
       "      <td>2021.000000</td>\n",
       "    </tr>\n",
       "    <tr>\n",
       "      <th>75%</th>\n",
       "      <td>37.75000</td>\n",
       "      <td>3.500000</td>\n",
       "      <td>140.000000</td>\n",
       "      <td>4.500000</td>\n",
       "      <td>149000.000000</td>\n",
       "      <td>6.000000</td>\n",
       "      <td>80.000000</td>\n",
       "      <td>2021.000000</td>\n",
       "    </tr>\n",
       "    <tr>\n",
       "      <th>max</th>\n",
       "      <td>50.00000</td>\n",
       "      <td>6.200000</td>\n",
       "      <td>200.000000</td>\n",
       "      <td>6.000000</td>\n",
       "      <td>250000.000000</td>\n",
       "      <td>25.000000</td>\n",
       "      <td>100.000000</td>\n",
       "      <td>2022.000000</td>\n",
       "    </tr>\n",
       "  </tbody>\n",
       "</table>\n",
       "</div>"
      ],
      "text/plain": [
       "             id  Battery Capacity (kWh)  Range per Charge (km)  Charging Time  \\\n",
       "count  50.00000               50.000000              50.000000      49.000000   \n",
       "mean   25.50000                3.188000             120.160000       3.755102   \n",
       "std    14.57738                0.950325              30.370743       0.947158   \n",
       "min     1.00000                2.200000              75.000000       2.500000   \n",
       "25%    13.25000                2.550000             100.000000       3.000000   \n",
       "50%    25.50000                2.900000             118.000000       3.500000   \n",
       "75%    37.75000                3.500000             140.000000       4.500000   \n",
       "max    50.00000                6.200000             200.000000       6.000000   \n",
       "\n",
       "               Price  Power (HP or kW)  Top Speed (km/h)  Year of Manufacture  \n",
       "count      49.000000         49.000000         49.000000            49.000000  \n",
       "mean   120469.387755          6.795918         73.775510          2021.204082  \n",
       "std     46317.789078          6.570070         13.288882             0.499149  \n",
       "min     60000.000000          2.000000         50.000000          2020.000000  \n",
       "25%     85000.000000          3.000000         60.000000          2021.000000  \n",
       "50%    109000.000000          5.000000         80.000000          2021.000000  \n",
       "75%    149000.000000          6.000000         80.000000          2021.000000  \n",
       "max    250000.000000         25.000000        100.000000          2022.000000  "
      ]
     },
     "execution_count": 29,
     "metadata": {},
     "output_type": "execute_result"
    }
   ],
   "source": [
    "ev_describe=ev.describe()\n",
    "ev_describe"
   ]
  },
  {
   "cell_type": "code",
   "execution_count": 30,
   "id": "27a20296-71f5-4f6e-9fc0-952e543ae8f7",
   "metadata": {},
   "outputs": [
    {
     "data": {
      "text/plain": [
       "Vehicle Type\n",
       "Scooter    39\n",
       "Bike       11\n",
       "Name: count, dtype: int64"
      ]
     },
     "execution_count": 30,
     "metadata": {},
     "output_type": "execute_result"
    }
   ],
   "source": [
    "value_counts = ev['Vehicle Type'].value_counts()\n",
    "value_counts"
   ]
  },
  {
   "cell_type": "code",
   "execution_count": 54,
   "id": "680b4358-fc5c-49af-987d-aba522449c54",
   "metadata": {},
   "outputs": [
    {
     "data": {
      "text/html": [
       "<div>\n",
       "<style scoped>\n",
       "    .dataframe tbody tr th:only-of-type {\n",
       "        vertical-align: middle;\n",
       "    }\n",
       "\n",
       "    .dataframe tbody tr th {\n",
       "        vertical-align: top;\n",
       "    }\n",
       "\n",
       "    .dataframe thead th {\n",
       "        text-align: right;\n",
       "    }\n",
       "</style>\n",
       "<table border=\"1\" class=\"dataframe\">\n",
       "  <thead>\n",
       "    <tr style=\"text-align: right;\">\n",
       "      <th></th>\n",
       "      <th>id</th>\n",
       "      <th>Model</th>\n",
       "      <th>Manufacturer</th>\n",
       "      <th>Vehicle Type</th>\n",
       "      <th>Battery Capacity (kWh)</th>\n",
       "      <th>Range per Charge (km)</th>\n",
       "      <th>Charging Time</th>\n",
       "      <th>Price</th>\n",
       "      <th>Power (HP or kW)</th>\n",
       "      <th>Top Speed (km/h)</th>\n",
       "      <th>Year of Manufacture</th>\n",
       "    </tr>\n",
       "  </thead>\n",
       "  <tbody>\n",
       "    <tr>\n",
       "      <th>0</th>\n",
       "      <td>1</td>\n",
       "      <td>Aura 300 Plus</td>\n",
       "      <td>Ather Energy</td>\n",
       "      <td>Scooter</td>\n",
       "      <td>2.9</td>\n",
       "      <td>116</td>\n",
       "      <td>4.5</td>\n",
       "      <td>129000.0</td>\n",
       "      <td>6.0</td>\n",
       "      <td>80.0</td>\n",
       "      <td>2021.0</td>\n",
       "    </tr>\n",
       "    <tr>\n",
       "      <th>1</th>\n",
       "      <td>2</td>\n",
       "      <td>Pure EV Epluto 7G</td>\n",
       "      <td>Pure EV</td>\n",
       "      <td>Scooter</td>\n",
       "      <td>2.7</td>\n",
       "      <td>120</td>\n",
       "      <td>3.0</td>\n",
       "      <td>109000.0</td>\n",
       "      <td>5.0</td>\n",
       "      <td>80.0</td>\n",
       "      <td>2021.0</td>\n",
       "    </tr>\n",
       "    <tr>\n",
       "      <th>2</th>\n",
       "      <td>3</td>\n",
       "      <td>Bajaj Chetak Electric</td>\n",
       "      <td>Bajaj Auto</td>\n",
       "      <td>Scooter</td>\n",
       "      <td>4.0</td>\n",
       "      <td>95</td>\n",
       "      <td>5.0</td>\n",
       "      <td>150000.0</td>\n",
       "      <td>4.0</td>\n",
       "      <td>60.0</td>\n",
       "      <td>2020.0</td>\n",
       "    </tr>\n",
       "    <tr>\n",
       "      <th>3</th>\n",
       "      <td>4</td>\n",
       "      <td>Okinawa iPraise Pro</td>\n",
       "      <td>Okinawa Autotech</td>\n",
       "      <td>Scooter</td>\n",
       "      <td>2.5</td>\n",
       "      <td>100</td>\n",
       "      <td>3.0</td>\n",
       "      <td>85000.0</td>\n",
       "      <td>3.0</td>\n",
       "      <td>60.0</td>\n",
       "      <td>2021.0</td>\n",
       "    </tr>\n",
       "    <tr>\n",
       "      <th>4</th>\n",
       "      <td>5</td>\n",
       "      <td>Hero Electric Opto EV</td>\n",
       "      <td>Hero Motocorp</td>\n",
       "      <td>Scooter</td>\n",
       "      <td>2.2</td>\n",
       "      <td>75</td>\n",
       "      <td>3.0</td>\n",
       "      <td>75000.0</td>\n",
       "      <td>3.0</td>\n",
       "      <td>60.0</td>\n",
       "      <td>2021.0</td>\n",
       "    </tr>\n",
       "  </tbody>\n",
       "</table>\n",
       "</div>"
      ],
      "text/plain": [
       "   id                  Model      Manufacturer Vehicle Type  \\\n",
       "0   1          Aura 300 Plus      Ather Energy      Scooter   \n",
       "1   2      Pure EV Epluto 7G           Pure EV      Scooter   \n",
       "2   3  Bajaj Chetak Electric        Bajaj Auto      Scooter   \n",
       "3   4    Okinawa iPraise Pro  Okinawa Autotech      Scooter   \n",
       "4   5  Hero Electric Opto EV     Hero Motocorp      Scooter   \n",
       "\n",
       "   Battery Capacity (kWh)  Range per Charge (km)  Charging Time     Price  \\\n",
       "0                     2.9                    116            4.5  129000.0   \n",
       "1                     2.7                    120            3.0  109000.0   \n",
       "2                     4.0                     95            5.0  150000.0   \n",
       "3                     2.5                    100            3.0   85000.0   \n",
       "4                     2.2                     75            3.0   75000.0   \n",
       "\n",
       "   Power (HP or kW)  Top Speed (km/h)  Year of Manufacture  \n",
       "0               6.0              80.0               2021.0  \n",
       "1               5.0              80.0               2021.0  \n",
       "2               4.0              60.0               2020.0  \n",
       "3               3.0              60.0               2021.0  \n",
       "4               3.0              60.0               2021.0  "
      ]
     },
     "execution_count": 54,
     "metadata": {},
     "output_type": "execute_result"
    }
   ],
   "source": [
    "# Dropping rows with any null values\n",
    "ev= ev.dropna()\n",
    "ev.head()"
   ]
  },
  {
   "cell_type": "code",
   "execution_count": 16,
   "id": "ef63572f-e8aa-4fe4-a089-db3a7483c16d",
   "metadata": {},
   "outputs": [],
   "source": [
    "# VISUALIZATION"
   ]
  },
  {
   "cell_type": "code",
   "execution_count": 569,
   "id": "356f889f-6efe-4fab-b383-3362ea976a84",
   "metadata": {},
   "outputs": [],
   "source": [
    "#COUNT PLOT (showing counts of observations in each categorical bin) "
   ]
  },
  {
   "cell_type": "code",
   "execution_count": 570,
   "id": "c8aca825-437a-4eda-8547-9d6993ffba7a",
   "metadata": {},
   "outputs": [
    {
     "data": {
      "text/plain": [
       "Text(0.5, 1.0, 'counts of observations in each categorical bin ')"
      ]
     },
     "execution_count": 570,
     "metadata": {},
     "output_type": "execute_result"
    },
    {
     "data": {
      "image/png": "[encoded data removed]",
      "text/plain": [
       "<Figure size 640x480 with 1 Axes>"
      ]
     },
     "metadata": {},
     "output_type": "display_data"
    }
   ],
   "source": [
    "sns.countplot(x='Vehicle Type', data=ev,palette=['yellow','orange'])\n",
    "plt.title('counts of observations in each categorical bin ')"
   ]
  },
  {
   "cell_type": "code",
   "execution_count": 196,
   "id": "56d2b922-c0f5-4dc3-b85e-c07530698392",
   "metadata": {},
   "outputs": [],
   "source": [
    "#BARPLOT (relationship between vehicle types and Battery Capacity (kWh))"
   ]
  },
  {
   "cell_type": "code",
   "execution_count": 197,
   "id": "02857ab6-92b5-4016-890a-c0573d939869",
   "metadata": {},
   "outputs": [
    {
     "data": {
      "image/png": "[encoded data removed]",
      "text/plain": [
       "<Figure size 640x480 with 1 Axes>"
      ]
     },
     "metadata": {},
     "output_type": "display_data"
    }
   ],
   "source": [
    "sns.barplot(x='Vehicle Type', y='Battery Capacity (kWh)', \n",
    "            data=ev,palette=['red', 'blue'])\n",
    "plt.title('relationship between vehicle types and Battery Capacity (kWh)')\n",
    "plt.show()"
   ]
  },
  {
   "cell_type": "code",
   "execution_count": 198,
   "id": "facede1b-0811-46e3-8cd2-a77754e0ac5a",
   "metadata": {},
   "outputs": [],
   "source": [
    "#BARPLOT (relationship between vehicle types and Price)"
   ]
  },
  {
   "cell_type": "code",
   "execution_count": 199,
   "id": "341fa8f3-c3fa-4ea3-a00c-bc192eba22a8",
   "metadata": {},
   "outputs": [
    {
     "data": {
      "image/png": "[encoded data removed]",
      "text/plain": [
       "<Figure size 640x480 with 1 Axes>"
      ]
     },
     "metadata": {},
     "output_type": "display_data"
    }
   ],
   "source": [
    "sns.barplot(x='Vehicle Type', y='Price', data=ev,palette=['green', 'purple'])\n",
    "plt.title('relationship between vehicle types and Price')\n",
    "plt.show()"
   ]
  },
  {
   "cell_type": "code",
   "execution_count": 200,
   "id": "6dc6e4bd-44d5-4376-b553-23f66cff0946",
   "metadata": {},
   "outputs": [],
   "source": [
    "#BARPLOT (relationship between vehicle types and Range per Charge (km))"
   ]
  },
  {
   "cell_type": "code",
   "execution_count": 201,
   "id": "ee3292a9-3f25-416b-a5e8-04e3754c65b3",
   "metadata": {},
   "outputs": [
    {
     "data": {
      "image/png": "[encoded data removed]",
      "text/plain": [
       "<Figure size 640x480 with 1 Axes>"
      ]
     },
     "metadata": {},
     "output_type": "display_data"
    }
   ],
   "source": [
    "sns.barplot(x='Vehicle Type', y='Range per Charge (km)', data=ev,palette=['blue', 'yellow'])\n",
    "plt.title('relationship between vehicle types and Range per Charge (km)')\n",
    "plt.show()"
   ]
  },
  {
   "cell_type": "code",
   "execution_count": 202,
   "id": "74da60b1-c79a-49e9-b1e0-16bedeb1340b",
   "metadata": {},
   "outputs": [],
   "source": [
    "#line plot"
   ]
  },
  {
   "cell_type": "code",
   "execution_count": 203,
   "id": "5b940380-180d-4bdd-84b4-d1aad371d0e2",
   "metadata": {},
   "outputs": [
    {
     "data": {
      "image/png": "[encoded data removed]",
      "text/plain": [
       "<Figure size 640x480 with 1 Axes>"
      ]
     },
     "metadata": {},
     "output_type": "display_data"
    }
   ],
   "source": [
    "# plotting the price from dataset 3\n",
    "plt.plot(ev['Price'], color='orange')\n",
    "plt.xlabel('Number of Samples', family='serif', size=12)\n",
    "plt.ylabel('Price', family='serif', size=12)\n",
    "plt.title('Price Comparison', family='serif', size=15, pad=12);"
   ]
  },
  {
   "cell_type": "code",
   "execution_count": 60,
   "id": "47f866cd-36e0-433d-84c9-4d021697c371",
   "metadata": {},
   "outputs": [],
   "source": [
    "EV=ev[[ 'Battery Capacity (kWh)',\n",
    "       'Range per Charge (km)', 'Charging Time', 'Price', 'Power (HP or kW)',\n",
    "       'Top Speed (km/h)']]\n"
   ]
  },
  {
   "cell_type": "code",
   "execution_count": 21,
   "id": "4b4f046d-4f02-4bcc-91c7-74a8b15b249f",
   "metadata": {},
   "outputs": [
    {
     "data": {
      "text/html": [
       "<div>\n",
       "<style scoped>\n",
       "    .dataframe tbody tr th:only-of-type {\n",
       "        vertical-align: middle;\n",
       "    }\n",
       "\n",
       "    .dataframe tbody tr th {\n",
       "        vertical-align: top;\n",
       "    }\n",
       "\n",
       "    .dataframe thead th {\n",
       "        text-align: right;\n",
       "    }\n",
       "</style>\n",
       "<table border=\"1\" class=\"dataframe\">\n",
       "  <thead>\n",
       "    <tr style=\"text-align: right;\">\n",
       "      <th></th>\n",
       "      <th>Battery Capacity (kWh)</th>\n",
       "      <th>Range per Charge (km)</th>\n",
       "      <th>Charging Time</th>\n",
       "      <th>Price</th>\n",
       "      <th>Power (HP or kW)</th>\n",
       "      <th>Top Speed (km/h)</th>\n",
       "    </tr>\n",
       "  </thead>\n",
       "  <tbody>\n",
       "    <tr>\n",
       "      <th>0</th>\n",
       "      <td>2.9</td>\n",
       "      <td>116</td>\n",
       "      <td>4.5</td>\n",
       "      <td>129000.0</td>\n",
       "      <td>6.0</td>\n",
       "      <td>80.0</td>\n",
       "    </tr>\n",
       "    <tr>\n",
       "      <th>1</th>\n",
       "      <td>2.7</td>\n",
       "      <td>120</td>\n",
       "      <td>3.0</td>\n",
       "      <td>109000.0</td>\n",
       "      <td>5.0</td>\n",
       "      <td>80.0</td>\n",
       "    </tr>\n",
       "    <tr>\n",
       "      <th>2</th>\n",
       "      <td>4.0</td>\n",
       "      <td>95</td>\n",
       "      <td>5.0</td>\n",
       "      <td>150000.0</td>\n",
       "      <td>4.0</td>\n",
       "      <td>60.0</td>\n",
       "    </tr>\n",
       "    <tr>\n",
       "      <th>3</th>\n",
       "      <td>2.5</td>\n",
       "      <td>100</td>\n",
       "      <td>3.0</td>\n",
       "      <td>85000.0</td>\n",
       "      <td>3.0</td>\n",
       "      <td>60.0</td>\n",
       "    </tr>\n",
       "    <tr>\n",
       "      <th>4</th>\n",
       "      <td>2.2</td>\n",
       "      <td>75</td>\n",
       "      <td>3.0</td>\n",
       "      <td>75000.0</td>\n",
       "      <td>3.0</td>\n",
       "      <td>60.0</td>\n",
       "    </tr>\n",
       "  </tbody>\n",
       "</table>\n",
       "</div>"
      ],
      "text/plain": [
       "   Battery Capacity (kWh)  Range per Charge (km)  Charging Time     Price  \\\n",
       "0                     2.9                    116            4.5  129000.0   \n",
       "1                     2.7                    120            3.0  109000.0   \n",
       "2                     4.0                     95            5.0  150000.0   \n",
       "3                     2.5                    100            3.0   85000.0   \n",
       "4                     2.2                     75            3.0   75000.0   \n",
       "\n",
       "   Power (HP or kW)  Top Speed (km/h)  \n",
       "0               6.0              80.0  \n",
       "1               5.0              80.0  \n",
       "2               4.0              60.0  \n",
       "3               3.0              60.0  \n",
       "4               3.0              60.0  "
      ]
     },
     "execution_count": 21,
     "metadata": {},
     "output_type": "execute_result"
    }
   ],
   "source": [
    "EV.head()"
   ]
  },
  {
   "cell_type": "code",
   "execution_count": 63,
   "id": "d078328b-67b7-4ff8-b456-a7c2a48e0cb7",
   "metadata": {},
   "outputs": [
    {
     "data": {
      "text/plain": [
       "42"
      ]
     },
     "execution_count": 63,
     "metadata": {},
     "output_type": "execute_result"
    }
   ],
   "source": [
    "# Calculate Q1 (25th percentile) and Q3 (75th percentile)\n",
    "Q1 = EV.quantile(0.25)\n",
    "Q3 = EV.quantile(0.75)\n",
    "IQR = Q3 - Q1\n",
    "\n",
    "# Define bounds for outliers\n",
    "lower_bound = Q1 - 1.5 * IQR\n",
    "upper_bound = Q3 + 1.5 * IQR\n",
    "\n",
    "# Remove outliers\n",
    "df_cleaned = EV[~((EV < lower_bound) | (EV > upper_bound)).any(axis=1)]\n",
    "df_cleaned.head()\n",
    "len(df_cleaned)"
   ]
  },
  {
   "cell_type": "code",
   "execution_count": 577,
   "id": "033994a6-596b-4976-898f-cce4fb64472d",
   "metadata": {},
   "outputs": [],
   "source": [
    "# costumizing Battery Capacity (kWh) column"
   ]
  },
  {
   "cell_type": "code",
   "execution_count": 77,
   "id": "f752500c-36ca-447e-92dd-6966540ae057",
   "metadata": {},
   "outputs": [
    {
     "data": {
      "text/plain": [
       "2.9642857142857144"
      ]
     },
     "execution_count": 77,
     "metadata": {},
     "output_type": "execute_result"
    }
   ],
   "source": [
    "df_cleaned['Battery Capacity (kWh)'] .mean()"
   ]
  },
  {
   "cell_type": "code",
   "execution_count": 25,
   "id": "5416774a-0bd5-4a43-98bf-b2479fcd9236",
   "metadata": {},
   "outputs": [
    {
     "data": {
      "text/html": [
       "<div>\n",
       "<style scoped>\n",
       "    .dataframe tbody tr th:only-of-type {\n",
       "        vertical-align: middle;\n",
       "    }\n",
       "\n",
       "    .dataframe tbody tr th {\n",
       "        vertical-align: top;\n",
       "    }\n",
       "\n",
       "    .dataframe thead th {\n",
       "        text-align: right;\n",
       "    }\n",
       "</style>\n",
       "<table border=\"1\" class=\"dataframe\">\n",
       "  <thead>\n",
       "    <tr style=\"text-align: right;\">\n",
       "      <th></th>\n",
       "      <th>Battery Capacity (kWh)</th>\n",
       "      <th>Range per Charge (km)</th>\n",
       "      <th>Charging Time</th>\n",
       "      <th>Price</th>\n",
       "      <th>Power (HP or kW)</th>\n",
       "      <th>Top Speed (km/h)</th>\n",
       "    </tr>\n",
       "  </thead>\n",
       "  <tbody>\n",
       "    <tr>\n",
       "      <th>0</th>\n",
       "      <td>battery &lt;3</td>\n",
       "      <td>116</td>\n",
       "      <td>4.5</td>\n",
       "      <td>129000.0</td>\n",
       "      <td>6.0</td>\n",
       "      <td>80.0</td>\n",
       "    </tr>\n",
       "    <tr>\n",
       "      <th>1</th>\n",
       "      <td>battery &lt;3</td>\n",
       "      <td>120</td>\n",
       "      <td>3.0</td>\n",
       "      <td>109000.0</td>\n",
       "      <td>5.0</td>\n",
       "      <td>80.0</td>\n",
       "    </tr>\n",
       "    <tr>\n",
       "      <th>2</th>\n",
       "      <td>battery &gt;3</td>\n",
       "      <td>95</td>\n",
       "      <td>5.0</td>\n",
       "      <td>150000.0</td>\n",
       "      <td>4.0</td>\n",
       "      <td>60.0</td>\n",
       "    </tr>\n",
       "    <tr>\n",
       "      <th>3</th>\n",
       "      <td>battery &lt;3</td>\n",
       "      <td>100</td>\n",
       "      <td>3.0</td>\n",
       "      <td>85000.0</td>\n",
       "      <td>3.0</td>\n",
       "      <td>60.0</td>\n",
       "    </tr>\n",
       "    <tr>\n",
       "      <th>4</th>\n",
       "      <td>battery &lt;3</td>\n",
       "      <td>75</td>\n",
       "      <td>3.0</td>\n",
       "      <td>75000.0</td>\n",
       "      <td>3.0</td>\n",
       "      <td>60.0</td>\n",
       "    </tr>\n",
       "  </tbody>\n",
       "</table>\n",
       "</div>"
      ],
      "text/plain": [
       "  Battery Capacity (kWh)  Range per Charge (km)  Charging Time     Price  \\\n",
       "0             battery <3                    116            4.5  129000.0   \n",
       "1             battery <3                    120            3.0  109000.0   \n",
       "2             battery >3                     95            5.0  150000.0   \n",
       "3             battery <3                    100            3.0   85000.0   \n",
       "4             battery <3                     75            3.0   75000.0   \n",
       "\n",
       "   Power (HP or kW)  Top Speed (km/h)  \n",
       "0               6.0              80.0  \n",
       "1               5.0              80.0  \n",
       "2               4.0              60.0  \n",
       "3               3.0              60.0  \n",
       "4               3.0              60.0  "
      ]
     },
     "execution_count": 25,
     "metadata": {},
     "output_type": "execute_result"
    }
   ],
   "source": [
    "# Convert the 'Battery Capacity (kWh)' column to numeric\n",
    "df_cleaned['Battery Capacity (kWh)'] = pd.to_numeric(df_cleaned['Battery Capacity (kWh)'])\n",
    "\n",
    "# Defining a custom function to label the battery capacity\n",
    "def label_battery_capacity(value):\n",
    "    if value <= 3:\n",
    "        return 'battery <3'\n",
    "    else:\n",
    "        return 'battery >3'\n",
    "\n",
    "# Applying the function to the 'Battery Capacity (kWh)' column\n",
    "df_cleaned['Battery Capacity (kWh)'] = df_cleaned['Battery Capacity (kWh)'].apply(label_battery_capacity)\n",
    "df_cleaned.head()"
   ]
  },
  {
   "cell_type": "code",
   "execution_count": 29,
   "id": "b2d79360-2565-4d65-ab00-5d498ecd8d8d",
   "metadata": {},
   "outputs": [
    {
     "data": {
      "text/plain": [
       "Battery Capacity (kWh)\n",
       "battery <3    31\n",
       "battery >3    11\n",
       "Name: count, dtype: int64"
      ]
     },
     "execution_count": 29,
     "metadata": {},
     "output_type": "execute_result"
    }
   ],
   "source": [
    "df_cleaned['Battery Capacity (kWh)'].value_counts()"
   ]
  },
  {
   "cell_type": "code",
   "execution_count": 30,
   "id": "595dae1f-ee01-4b6c-aa29-eb6eae0fbd35",
   "metadata": {},
   "outputs": [],
   "source": [
    "# costumizing power column\""
   ]
  },
  {
   "cell_type": "code",
   "execution_count": 47,
   "id": "76596b65-42ff-40d9-b945-df6d71dcc5ba",
   "metadata": {},
   "outputs": [
    {
     "data": {
      "text/plain": [
       "4.214285714285714"
      ]
     },
     "execution_count": 47,
     "metadata": {},
     "output_type": "execute_result"
    }
   ],
   "source": [
    "df_cleaned['Power (HP or kW)'].mean()"
   ]
  },
  {
   "cell_type": "code",
   "execution_count": 32,
   "id": "7b181bbe-b909-46a2-bf06-41f0817b97fc",
   "metadata": {},
   "outputs": [
    {
     "name": "stdout",
     "output_type": "stream",
     "text": [
      "0     HP>4\n",
      "1     HP>4\n",
      "2    HP<=4\n",
      "3    HP<=4\n",
      "4    HP<=4\n",
      "Name: Power (HP or kW), dtype: object\n"
     ]
    }
   ],
   "source": [
    "# Ensure the 'Power (HP or kW)' column is numeric, converting any non-numeric values to NaN\n",
    "df_cleaned['Power (HP or kW)'] = pd.to_numeric(df_cleaned['Power (HP or kW)'])\n",
    "\n",
    "# Defining a custom function to label the power\n",
    "def label_power(value):\n",
    "    if value <= 4:\n",
    "        return 'HP<=4'\n",
    "    else:\n",
    "        return 'HP>4'\n",
    "\n",
    "# Applying the function to the 'Power (HP or kW)' column\n",
    "df_cleaned['Power (HP or kW)'] = df_cleaned['Power (HP or kW)'].apply(label_power)\n",
    "\n",
    "# Check the result\n",
    "print(df_cleaned['Power (HP or kW)'].head())"
   ]
  },
  {
   "cell_type": "code",
   "execution_count": 35,
   "id": "1e114a81-e42e-406d-b59b-ce026ed6d761",
   "metadata": {},
   "outputs": [],
   "source": [
    "## costumizing Charging Time"
   ]
  },
  {
   "cell_type": "code",
   "execution_count": 34,
   "id": "2865c07d-48f5-431b-891e-12492a47560e",
   "metadata": {},
   "outputs": [
    {
     "data": {
      "text/plain": [
       "3.642857142857143"
      ]
     },
     "execution_count": 34,
     "metadata": {},
     "output_type": "execute_result"
    }
   ],
   "source": [
    "df_cleaned['Charging Time'].mean()"
   ]
  },
  {
   "cell_type": "code",
   "execution_count": 36,
   "id": "cae84e7f-8e62-4ba7-860a-3d2fc78b8916",
   "metadata": {},
   "outputs": [],
   "source": [
    "# Defining a custom function to label the Charging Time\n",
    "def label_charging_time(value):\n",
    "    if value <= 4:\n",
    "        return 'charge_time<4'\n",
    "    else:\n",
    "        return 'charge_time>4'"
   ]
  },
  {
   "cell_type": "code",
   "execution_count": 37,
   "id": "2dd0961c-77e5-4c6b-9955-73e0b775f79b",
   "metadata": {},
   "outputs": [],
   "source": [
    "# Applying the function to the 'Power (HP or kW)' column\n",
    "df_cleaned['Charging Time'] = df_cleaned['Charging Time'].apply(label_charging_time)"
   ]
  },
  {
   "cell_type": "code",
   "execution_count": 38,
   "id": "deee2375-139f-4db6-a5bd-7d43571d20ef",
   "metadata": {},
   "outputs": [
    {
     "data": {
      "text/plain": [
       "Charging Time\n",
       "charge_time<4    29\n",
       "charge_time>4    13\n",
       "Name: count, dtype: int64"
      ]
     },
     "execution_count": 38,
     "metadata": {},
     "output_type": "execute_result"
    }
   ],
   "source": [
    "df_cleaned['Charging Time'].value_counts()"
   ]
  },
  {
   "cell_type": "code",
   "execution_count": 39,
   "id": "cf55050f-e2f1-4d29-88d3-d6502c2d4e1c",
   "metadata": {},
   "outputs": [
    {
     "data": {
      "text/html": [
       "<div>\n",
       "<style scoped>\n",
       "    .dataframe tbody tr th:only-of-type {\n",
       "        vertical-align: middle;\n",
       "    }\n",
       "\n",
       "    .dataframe tbody tr th {\n",
       "        vertical-align: top;\n",
       "    }\n",
       "\n",
       "    .dataframe thead th {\n",
       "        text-align: right;\n",
       "    }\n",
       "</style>\n",
       "<table border=\"1\" class=\"dataframe\">\n",
       "  <thead>\n",
       "    <tr style=\"text-align: right;\">\n",
       "      <th></th>\n",
       "      <th>Battery Capacity (kWh)</th>\n",
       "      <th>Range per Charge (km)</th>\n",
       "      <th>Charging Time</th>\n",
       "      <th>Price</th>\n",
       "      <th>Power (HP or kW)</th>\n",
       "      <th>Top Speed (km/h)</th>\n",
       "      <th>Vehicle Type</th>\n",
       "    </tr>\n",
       "  </thead>\n",
       "  <tbody>\n",
       "    <tr>\n",
       "      <th>0</th>\n",
       "      <td>battery &lt;3</td>\n",
       "      <td>116</td>\n",
       "      <td>charge_time&gt;4</td>\n",
       "      <td>129000.0</td>\n",
       "      <td>HP&gt;4</td>\n",
       "      <td>80.0</td>\n",
       "      <td>Scooter</td>\n",
       "    </tr>\n",
       "    <tr>\n",
       "      <th>1</th>\n",
       "      <td>battery &lt;3</td>\n",
       "      <td>120</td>\n",
       "      <td>charge_time&lt;4</td>\n",
       "      <td>109000.0</td>\n",
       "      <td>HP&gt;4</td>\n",
       "      <td>80.0</td>\n",
       "      <td>Scooter</td>\n",
       "    </tr>\n",
       "    <tr>\n",
       "      <th>2</th>\n",
       "      <td>battery &gt;3</td>\n",
       "      <td>95</td>\n",
       "      <td>charge_time&gt;4</td>\n",
       "      <td>150000.0</td>\n",
       "      <td>HP&lt;=4</td>\n",
       "      <td>60.0</td>\n",
       "      <td>Scooter</td>\n",
       "    </tr>\n",
       "    <tr>\n",
       "      <th>3</th>\n",
       "      <td>battery &lt;3</td>\n",
       "      <td>100</td>\n",
       "      <td>charge_time&lt;4</td>\n",
       "      <td>85000.0</td>\n",
       "      <td>HP&lt;=4</td>\n",
       "      <td>60.0</td>\n",
       "      <td>Scooter</td>\n",
       "    </tr>\n",
       "    <tr>\n",
       "      <th>4</th>\n",
       "      <td>battery &lt;3</td>\n",
       "      <td>75</td>\n",
       "      <td>charge_time&lt;4</td>\n",
       "      <td>75000.0</td>\n",
       "      <td>HP&lt;=4</td>\n",
       "      <td>60.0</td>\n",
       "      <td>Scooter</td>\n",
       "    </tr>\n",
       "  </tbody>\n",
       "</table>\n",
       "</div>"
      ],
      "text/plain": [
       "  Battery Capacity (kWh)  Range per Charge (km)  Charging Time     Price  \\\n",
       "0             battery <3                    116  charge_time>4  129000.0   \n",
       "1             battery <3                    120  charge_time<4  109000.0   \n",
       "2             battery >3                     95  charge_time>4  150000.0   \n",
       "3             battery <3                    100  charge_time<4   85000.0   \n",
       "4             battery <3                     75  charge_time<4   75000.0   \n",
       "\n",
       "  Power (HP or kW)  Top Speed (km/h) Vehicle Type  \n",
       "0             HP>4              80.0      Scooter  \n",
       "1             HP>4              80.0      Scooter  \n",
       "2            HP<=4              60.0      Scooter  \n",
       "3            HP<=4              60.0      Scooter  \n",
       "4            HP<=4              60.0      Scooter  "
      ]
     },
     "execution_count": 39,
     "metadata": {},
     "output_type": "execute_result"
    }
   ],
   "source": [
    "df_cleaned['Vehicle Type']=ev['Vehicle Type']\n",
    "df_cleaned.head()"
   ]
  },
  {
   "cell_type": "code",
   "execution_count": 40,
   "id": "7e6aa663-2d9a-49f8-9066-3a3e3948fbe4",
   "metadata": {},
   "outputs": [],
   "source": [
    "# coustumizing range_per_charge column"
   ]
  },
  {
   "cell_type": "code",
   "execution_count": 41,
   "id": "de0fbb06-dfa4-4108-a07a-533b6b24c136",
   "metadata": {},
   "outputs": [
    {
     "name": "stdout",
     "output_type": "stream",
     "text": [
      "111.61904761904762\n"
     ]
    }
   ],
   "source": [
    "print(df_cleaned['Range per Charge (km)'].mean())"
   ]
  },
  {
   "cell_type": "code",
   "execution_count": 42,
   "id": "fc62cd6c-cf98-4c8f-8096-9e8745cdb772",
   "metadata": {},
   "outputs": [],
   "source": [
    "# Ensure the 'Power (HP or kW)' column is numeric, converting any non-numeric values to NaN\n",
    "df_cleaned['Range per Charge (km)'] = pd.to_numeric(df_cleaned['Range per Charge (km)'])\n",
    "\n",
    "# Defining a custom function to label the power\n",
    "def label_range_per_charge(value):\n",
    "    if value <= 111:\n",
    "        return 'Range_pc<111'\n",
    "    else:\n",
    "        return 'Range_pc>111'\n",
    "\n",
    "# Applying the function to the 'Power (HP or kW)' column\n",
    "df_cleaned['Range per Charge (km)'] = df_cleaned['Range per Charge (km)'].apply(label_range_per_charge)\n"
   ]
  },
  {
   "cell_type": "code",
   "execution_count": 43,
   "id": "191f058e-0853-4e34-a7f1-fe926147b496",
   "metadata": {},
   "outputs": [
    {
     "data": {
      "text/plain": [
       "Range per Charge (km)\n",
       "Range_pc>111    23\n",
       "Range_pc<111    19\n",
       "Name: count, dtype: int64"
      ]
     },
     "execution_count": 43,
     "metadata": {},
     "output_type": "execute_result"
    }
   ],
   "source": [
    "df_cleaned['Range per Charge (km)'].value_counts()"
   ]
  },
  {
   "cell_type": "code",
   "execution_count": 45,
   "id": "d6cd45a0-9fe9-4884-8215-6bb2adc633d2",
   "metadata": {},
   "outputs": [],
   "source": [
    "# coustumizng prize column"
   ]
  },
  {
   "cell_type": "code",
   "execution_count": 44,
   "id": "a9f27545-c45f-46b1-883e-528e55e7057c",
   "metadata": {},
   "outputs": [
    {
     "data": {
      "text/plain": [
       "108285.71428571429"
      ]
     },
     "execution_count": 44,
     "metadata": {},
     "output_type": "execute_result"
    }
   ],
   "source": [
    "df_cleaned['Price'].mean()"
   ]
  },
  {
   "cell_type": "code",
   "execution_count": 46,
   "id": "0defa247-b673-4f24-b646-596a85c480fe",
   "metadata": {},
   "outputs": [],
   "source": [
    "# Ensure the 'Power (HP or kW)' column is numeric, converting any non-numeric values to NaN\n",
    "df_cleaned['Price'] = pd.to_numeric(df_cleaned['Price'])\n",
    "\n",
    "# Defining a custom function to label the power\n",
    "def label_prize(value):\n",
    "    if value <= 108285.:\n",
    "        return 'price<108k'\n",
    "    else:\n",
    "        return 'price>108k'\n",
    "\n",
    "# Applying the function to the 'Power (HP or kW)' column\n",
    "df_cleaned['Price'] = df_cleaned['Price'].apply(label_prize)"
   ]
  },
  {
   "cell_type": "code",
   "execution_count": 47,
   "id": "d84043ad-59d4-466e-ac3a-ef0fb0ba2c5f",
   "metadata": {},
   "outputs": [
    {
     "data": {
      "text/html": [
       "<div>\n",
       "<style scoped>\n",
       "    .dataframe tbody tr th:only-of-type {\n",
       "        vertical-align: middle;\n",
       "    }\n",
       "\n",
       "    .dataframe tbody tr th {\n",
       "        vertical-align: top;\n",
       "    }\n",
       "\n",
       "    .dataframe thead th {\n",
       "        text-align: right;\n",
       "    }\n",
       "</style>\n",
       "<table border=\"1\" class=\"dataframe\">\n",
       "  <thead>\n",
       "    <tr style=\"text-align: right;\">\n",
       "      <th></th>\n",
       "      <th>Battery Capacity (kWh)</th>\n",
       "      <th>Range per Charge (km)</th>\n",
       "      <th>Charging Time</th>\n",
       "      <th>Price</th>\n",
       "      <th>Power (HP or kW)</th>\n",
       "      <th>Top Speed (km/h)</th>\n",
       "      <th>Vehicle Type</th>\n",
       "    </tr>\n",
       "  </thead>\n",
       "  <tbody>\n",
       "    <tr>\n",
       "      <th>0</th>\n",
       "      <td>battery &lt;3</td>\n",
       "      <td>Range_pc&gt;111</td>\n",
       "      <td>charge_time&gt;4</td>\n",
       "      <td>price&gt;108k</td>\n",
       "      <td>HP&gt;4</td>\n",
       "      <td>80.0</td>\n",
       "      <td>Scooter</td>\n",
       "    </tr>\n",
       "    <tr>\n",
       "      <th>1</th>\n",
       "      <td>battery &lt;3</td>\n",
       "      <td>Range_pc&gt;111</td>\n",
       "      <td>charge_time&lt;4</td>\n",
       "      <td>price&gt;108k</td>\n",
       "      <td>HP&gt;4</td>\n",
       "      <td>80.0</td>\n",
       "      <td>Scooter</td>\n",
       "    </tr>\n",
       "    <tr>\n",
       "      <th>2</th>\n",
       "      <td>battery &gt;3</td>\n",
       "      <td>Range_pc&lt;111</td>\n",
       "      <td>charge_time&gt;4</td>\n",
       "      <td>price&gt;108k</td>\n",
       "      <td>HP&lt;=4</td>\n",
       "      <td>60.0</td>\n",
       "      <td>Scooter</td>\n",
       "    </tr>\n",
       "    <tr>\n",
       "      <th>3</th>\n",
       "      <td>battery &lt;3</td>\n",
       "      <td>Range_pc&lt;111</td>\n",
       "      <td>charge_time&lt;4</td>\n",
       "      <td>price&lt;108k</td>\n",
       "      <td>HP&lt;=4</td>\n",
       "      <td>60.0</td>\n",
       "      <td>Scooter</td>\n",
       "    </tr>\n",
       "    <tr>\n",
       "      <th>4</th>\n",
       "      <td>battery &lt;3</td>\n",
       "      <td>Range_pc&lt;111</td>\n",
       "      <td>charge_time&lt;4</td>\n",
       "      <td>price&lt;108k</td>\n",
       "      <td>HP&lt;=4</td>\n",
       "      <td>60.0</td>\n",
       "      <td>Scooter</td>\n",
       "    </tr>\n",
       "  </tbody>\n",
       "</table>\n",
       "</div>"
      ],
      "text/plain": [
       "  Battery Capacity (kWh) Range per Charge (km)  Charging Time       Price  \\\n",
       "0             battery <3          Range_pc>111  charge_time>4  price>108k   \n",
       "1             battery <3          Range_pc>111  charge_time<4  price>108k   \n",
       "2             battery >3          Range_pc<111  charge_time>4  price>108k   \n",
       "3             battery <3          Range_pc<111  charge_time<4  price<108k   \n",
       "4             battery <3          Range_pc<111  charge_time<4  price<108k   \n",
       "\n",
       "  Power (HP or kW)  Top Speed (km/h) Vehicle Type  \n",
       "0             HP>4              80.0      Scooter  \n",
       "1             HP>4              80.0      Scooter  \n",
       "2            HP<=4              60.0      Scooter  \n",
       "3            HP<=4              60.0      Scooter  \n",
       "4            HP<=4              60.0      Scooter  "
      ]
     },
     "execution_count": 47,
     "metadata": {},
     "output_type": "execute_result"
    }
   ],
   "source": [
    "df_cleaned.head()"
   ]
  },
  {
   "cell_type": "code",
   "execution_count": 48,
   "id": "2149ca88-fbbf-48af-ba3c-8534e105fe9c",
   "metadata": {},
   "outputs": [
    {
     "data": {
      "text/plain": [
       "Price\n",
       "price>108k    22\n",
       "price<108k    20\n",
       "Name: count, dtype: int64"
      ]
     },
     "execution_count": 48,
     "metadata": {},
     "output_type": "execute_result"
    }
   ],
   "source": [
    "df_cleaned['Price'].value_counts()"
   ]
  },
  {
   "cell_type": "code",
   "execution_count": 49,
   "id": "1093e949-13dc-4686-8350-9baa616a3449",
   "metadata": {},
   "outputs": [],
   "source": [
    "# performing # Apply one-hot encoding to all categoricalcolumns\n",
    "ev_new1 = pd.get_dummies(df_cleaned, columns=['Battery Capacity (kWh)', 'Range per Charge (km)', 'Charging Time',\n",
    "       'Price', 'Power (HP or kW)', 'Vehicle Type'], prefix=['', '','','','','']) "
   ]
  },
  {
   "cell_type": "code",
   "execution_count": 50,
   "id": "0be3046c-60ef-47e1-a333-62eac40813fe",
   "metadata": {},
   "outputs": [
    {
     "data": {
      "text/plain": [
       "Index(['Top Speed (km/h)', '_battery <3', '_battery >3', '_Range_pc<111',\n",
       "       '_Range_pc>111', '_charge_time<4', '_charge_time>4', '_price<108k',\n",
       "       '_price>108k', '_HP<=4', '_HP>4', '_Bike', '_Scooter'],\n",
       "      dtype='object')"
      ]
     },
     "execution_count": 50,
     "metadata": {},
     "output_type": "execute_result"
    }
   ],
   "source": [
    "ev_new1.columns"
   ]
  },
  {
   "cell_type": "code",
   "execution_count": 51,
   "id": "14545ce3-5165-4877-a054-a1fe98f24970",
   "metadata": {},
   "outputs": [],
   "source": [
    "new_ev=ev_new1[[ '_battery <3', '_battery >3', '_Range_pc<111',\n",
    "       '_Range_pc>111', '_charge_time<4', '_charge_time>4', '_price<108k',\n",
    "       '_price>108k', '_HP<=4', '_HP>4', '_Bike', '_Scooter']]"
   ]
  },
  {
   "cell_type": "code",
   "execution_count": 52,
   "id": "746cf261-892c-4ac6-804a-1f045dadf68e",
   "metadata": {},
   "outputs": [
    {
     "name": "stdout",
     "output_type": "stream",
     "text": [
      "(0/1)s of umeric matrix\n",
      "    _battery <3  _battery >3  _Range_pc<111  _Range_pc>111  _charge_time<4  \\\n",
      "0             1            0              0              1               0   \n",
      "1             1            0              0              1               1   \n",
      "2             0            1              1              0               0   \n",
      "3             1            0              1              0               1   \n",
      "4             1            0              1              0               1   \n",
      "7             0            1              1              0               0   \n",
      "8             1            0              0              1               0   \n",
      "9             1            0              0              1               1   \n",
      "10            1            0              1              0               1   \n",
      "11            1            0              1              0               1   \n",
      "14            1            0              0              1               0   \n",
      "15            1            0              0              1               1   \n",
      "16            1            0              1              0               1   \n",
      "17            1            0              1              0               1   \n",
      "19            0            1              0              1               0   \n",
      "20            1            0              1              0               1   \n",
      "21            1            0              1              0               1   \n",
      "22            1            0              1              0               1   \n",
      "23            1            0              0              1               0   \n",
      "24            1            0              0              1               1   \n",
      "25            1            0              1              0               1   \n",
      "27            1            0              0              1               0   \n",
      "28            1            0              0              1               1   \n",
      "29            1            0              1              0               1   \n",
      "30            1            0              1              0               1   \n",
      "31            1            0              1              0               1   \n",
      "32            0            1              0              1               0   \n",
      "33            1            0              1              0               1   \n",
      "34            1            0              0              1               0   \n",
      "35            1            0              0              1               1   \n",
      "36            1            0              1              0               1   \n",
      "38            0            1              0              1               0   \n",
      "39            0            1              0              1               1   \n",
      "40            1            0              0              1               1   \n",
      "41            1            0              1              0               1   \n",
      "42            0            1              0              1               1   \n",
      "43            0            1              0              1               0   \n",
      "44            0            1              0              1               1   \n",
      "45            0            1              0              1               0   \n",
      "46            0            1              0              1               1   \n",
      "47            1            0              0              1               1   \n",
      "48            1            0              1              0               1   \n",
      "\n",
      "    _charge_time>4  _price<108k  _price>108k  _HP<=4  _HP>4  _Bike  _Scooter  \n",
      "0                1            0            1       0      1      0         1  \n",
      "1                0            0            1       0      1      0         1  \n",
      "2                1            0            1       1      0      0         1  \n",
      "3                0            1            0       1      0      0         1  \n",
      "4                0            1            0       1      0      0         1  \n",
      "7                1            0            1       1      0      0         1  \n",
      "8                1            0            1       0      1      0         1  \n",
      "9                0            0            1       0      1      0         1  \n",
      "10               0            1            0       1      0      0         1  \n",
      "11               0            1            0       1      0      0         1  \n",
      "14               1            0            1       0      1      0         1  \n",
      "15               0            0            1       0      1      0         1  \n",
      "16               0            1            0       1      0      0         1  \n",
      "17               0            1            0       1      0      0         1  \n",
      "19               1            0            1       1      0      0         1  \n",
      "20               0            1            0       1      0      0         1  \n",
      "21               0            1            0       1      0      0         1  \n",
      "22               0            1            0       1      0      1         0  \n",
      "23               1            0            1       0      1      0         1  \n",
      "24               0            0            1       0      1      0         1  \n",
      "25               0            1            0       1      0      0         1  \n",
      "27               1            0            1       0      1      0         1  \n",
      "28               0            0            1       0      1      0         1  \n",
      "29               0            1            0       1      0      0         1  \n",
      "30               0            1            0       1      0      1         0  \n",
      "31               0            1            0       1      0      0         1  \n",
      "32               1            0            1       1      0      0         1  \n",
      "33               0            1            0       1      0      0         1  \n",
      "34               1            0            1       0      1      0         1  \n",
      "35               0            0            1       0      1      0         1  \n",
      "36               0            1            0       1      0      0         1  \n",
      "38               1            0            1       0      1      0         1  \n",
      "39               0            0            1       0      1      0         1  \n",
      "40               0            1            0       1      0      0         1  \n",
      "41               0            1            0       1      0      1         0  \n",
      "42               0            1            0       1      0      0         1  \n",
      "43               1            0            1       0      1      0         1  \n",
      "44               0            0            1       0      1      0         1  \n",
      "45               1            0            1       0      1      0         1  \n",
      "46               0            0            1       0      1      0         1  \n",
      "47               0            1            0       1      0      0         1  \n",
      "48               0            1            0       1      0      1         0  \n"
     ]
    }
   ],
   "source": [
    "ev1=new_ev\n",
    "ev1 = ev1.astype(int) \n",
    "print('(0/1)s of umeric matrix')\n",
    "print (ev1)"
   ]
  },
  {
   "cell_type": "code",
   "execution_count": 53,
   "id": "ed45dcc3-1865-4f34-ba33-e1cc574a8b6a",
   "metadata": {},
   "outputs": [
    {
     "name": "stdout",
     "output_type": "stream",
     "text": [
      "\n",
      "Average Values for Each Segmentation Variable:\n",
      " _battery <3       0.74\n",
      "_battery >3       0.26\n",
      "_Range_pc<111     0.45\n",
      "_Range_pc>111     0.55\n",
      "_charge_time<4    0.69\n",
      "_charge_time>4    0.31\n",
      "_price<108k       0.48\n",
      "_price>108k       0.52\n",
      "_HP<=4            0.57\n",
      "_HP>4             0.43\n",
      "_Bike             0.10\n",
      "_Scooter          0.90\n",
      "dtype: float64\n"
     ]
    },
    {
     "data": {
      "text/plain": [
       "pandas.core.series.Series"
      ]
     },
     "execution_count": 53,
     "metadata": {},
     "output_type": "execute_result"
    }
   ],
   "source": [
    "# step 3: Calculate the average value for each segmentation variable\n",
    "average_values = ev1.mean().round(2)\n",
    "\n",
    "# Print the average values\n",
    "print(\"\\nAverage Values for Each Segmentation Variable:\\n\", average_values)\n",
    "type(average_values)"
   ]
  },
  {
   "cell_type": "code",
   "execution_count": 54,
   "id": "ac001b7a-0ba3-41a9-989e-867d47298bfb",
   "metadata": {},
   "outputs": [],
   "source": [
    "# Results from principal components analysis"
   ]
  },
  {
   "cell_type": "code",
   "execution_count": 58,
   "id": "a5b739ac-c149-4d18-9d52-a21736d80039",
   "metadata": {},
   "outputs": [
    {
     "name": "stdout",
     "output_type": "stream",
     "text": [
      "                             PC1       PC2       PC3       PC4       PC5  \\\n",
      "Standard Deviation      1.231008  0.651081  0.485015  0.386988  0.328196   \n",
      "Proportion of Variance  0.613385  0.171586  0.095219  0.060619  0.043599   \n",
      "Cumulative Proportion   0.613385  0.784971  0.880189  0.940808  0.984407   \n",
      "\n",
      "                             PC6           PC7           PC8           PC9  \\\n",
      "Standard Deviation      0.196272  2.438949e-16  1.044727e-16  8.547227e-17   \n",
      "Proportion of Variance  0.015593  2.407781e-32  4.417911e-33  2.957071e-33   \n",
      "Cumulative Proportion   1.000000  1.000000e+00  1.000000e+00  1.000000e+00   \n",
      "\n",
      "                                PC10          PC11          PC12  \n",
      "Standard Deviation      5.184411e-17  1.196977e-17  7.847518e-18  \n",
      "Proportion of Variance  1.087953e-33  5.799394e-35  2.492734e-35  \n",
      "Cumulative Proportion   1.000000e+00  1.000000e+00  1.000000e+00  \n"
     ]
    }
   ],
   "source": [
    " # Perform PCA\n",
    "pca = PCA()\n",
    "pca.fit(ev1)\n",
    "\n",
    "# Get standard deviation, proportion of variance, and cumulative proportion\n",
    "std_dev = pca.singular_values_ / np.sqrt(len(ev1))\n",
    "explained_variance = pca.explained_variance_ratio_\n",
    "cumulative_proportion = np.cumsum(explained_variance)\n",
    "\n",
    "# Preparing data for display in the required format\n",
    "importance_df = pd.DataFrame({\n",
    "    'Standard Deviation': std_dev,\n",
    "    'Proportion of Variance': explained_variance,\n",
    "    'Cumulative Proportion': cumulative_proportion\n",
    "})\n",
    "\n",
    "# Create a new DataFrame with PCs as columns\n",
    "importance_df = importance_df.T\n",
    "importance_df.columns = [f'PC{i+1}' for i in range(len(std_dev))]\n",
    "\n",
    "# Display the output in the specified format\n",
    "# print(\"Importance of Components:\\n\")\n",
    "data_frame=pd.DataFrame(importance_df)\n",
    "print(data_frame)"
   ]
  },
  {
   "cell_type": "code",
   "execution_count": null,
   "id": "8e411caf-4720-4c31-a747-02f4d5d28f90",
   "metadata": {},
   "outputs": [],
   "source": []
  },
  {
   "cell_type": "code",
   "execution_count": 59,
   "id": "126210ff-d612-4ce4-80e9-16d0ce3ad764",
   "metadata": {},
   "outputs": [],
   "source": [
    " # loadings"
   ]
  },
  {
   "cell_type": "code",
   "execution_count": 60,
   "id": "4b543e37-69e2-4df4-802f-8f944361044e",
   "metadata": {},
   "outputs": [
    {
     "name": "stdout",
     "output_type": "stream",
     "text": [
      "1.2, 0.7, 0.5, 0.4, 0.3, 0.2, 0.0, 0.0, 0.0, 0.0, 0.0, 0.0\n"
     ]
    }
   ],
   "source": [
    "# Perform PCA\n",
    "pca = PCA()\n",
    "pca.fit(ev1)\n",
    "\n",
    "# Get standard deviations\n",
    "std_dev = pca.singular_values_ / np.sqrt(len(ev1))\n",
    "\n",
    "# Display standard deviations\n",
    "print( ', '.join(f\"{std:.1f}\" for std in std_dev))"
   ]
  },
  {
   "cell_type": "code",
   "execution_count": 61,
   "id": "3a0aa13e-0fde-4642-af4a-42b954dd5a7e",
   "metadata": {},
   "outputs": [
    {
     "name": "stdout",
     "output_type": "stream",
     "text": [
      "Rotation (n x k) = (11 x 11):\n",
      "\n"
     ]
    },
    {
     "data": {
      "text/html": [
       "<div>\n",
       "<style scoped>\n",
       "    .dataframe tbody tr th:only-of-type {\n",
       "        vertical-align: middle;\n",
       "    }\n",
       "\n",
       "    .dataframe tbody tr th {\n",
       "        vertical-align: top;\n",
       "    }\n",
       "\n",
       "    .dataframe thead th {\n",
       "        text-align: right;\n",
       "    }\n",
       "</style>\n",
       "<table border=\"1\" class=\"dataframe\">\n",
       "  <thead>\n",
       "    <tr style=\"text-align: right;\">\n",
       "      <th></th>\n",
       "      <th>PC1</th>\n",
       "      <th>PC2</th>\n",
       "      <th>PC3</th>\n",
       "      <th>PC4</th>\n",
       "      <th>PC5</th>\n",
       "      <th>PC6</th>\n",
       "      <th>PC7</th>\n",
       "      <th>PC8</th>\n",
       "      <th>PC9</th>\n",
       "      <th>PC10</th>\n",
       "      <th>PC11</th>\n",
       "      <th>PC12</th>\n",
       "    </tr>\n",
       "  </thead>\n",
       "  <tbody>\n",
       "    <tr>\n",
       "      <th>_battery &lt;3</th>\n",
       "      <td>0.175083</td>\n",
       "      <td>0.479905</td>\n",
       "      <td>0.440675</td>\n",
       "      <td>0.114033</td>\n",
       "      <td>-0.073356</td>\n",
       "      <td>-0.162658</td>\n",
       "      <td>-0.593365</td>\n",
       "      <td>0.223742</td>\n",
       "      <td>-0.166067</td>\n",
       "      <td>0.241776</td>\n",
       "      <td>0.064967</td>\n",
       "      <td>0.087192</td>\n",
       "    </tr>\n",
       "    <tr>\n",
       "      <th>_battery &gt;3</th>\n",
       "      <td>-0.175083</td>\n",
       "      <td>-0.479905</td>\n",
       "      <td>-0.440675</td>\n",
       "      <td>-0.114033</td>\n",
       "      <td>0.073356</td>\n",
       "      <td>0.162658</td>\n",
       "      <td>-0.593365</td>\n",
       "      <td>0.223742</td>\n",
       "      <td>-0.166067</td>\n",
       "      <td>0.241776</td>\n",
       "      <td>0.064967</td>\n",
       "      <td>0.087192</td>\n",
       "    </tr>\n",
       "    <tr>\n",
       "      <th>_Range_pc&lt;111</th>\n",
       "      <td>0.355525</td>\n",
       "      <td>-0.186505</td>\n",
       "      <td>0.198246</td>\n",
       "      <td>-0.081681</td>\n",
       "      <td>0.536570</td>\n",
       "      <td>0.070263</td>\n",
       "      <td>-0.268853</td>\n",
       "      <td>-0.526454</td>\n",
       "      <td>0.353419</td>\n",
       "      <td>0.107322</td>\n",
       "      <td>0.019077</td>\n",
       "      <td>-0.117374</td>\n",
       "    </tr>\n",
       "    <tr>\n",
       "      <th>_Range_pc&gt;111</th>\n",
       "      <td>-0.355525</td>\n",
       "      <td>0.186505</td>\n",
       "      <td>-0.198246</td>\n",
       "      <td>0.081681</td>\n",
       "      <td>-0.536570</td>\n",
       "      <td>-0.070263</td>\n",
       "      <td>-0.268853</td>\n",
       "      <td>-0.526454</td>\n",
       "      <td>0.353419</td>\n",
       "      <td>0.107322</td>\n",
       "      <td>0.019077</td>\n",
       "      <td>-0.117374</td>\n",
       "    </tr>\n",
       "    <tr>\n",
       "      <th>_charge_time&lt;4</th>\n",
       "      <td>0.250401</td>\n",
       "      <td>0.358327</td>\n",
       "      <td>-0.505248</td>\n",
       "      <td>-0.065140</td>\n",
       "      <td>0.156106</td>\n",
       "      <td>-0.158157</td>\n",
       "      <td>-0.028635</td>\n",
       "      <td>-0.402603</td>\n",
       "      <td>-0.565751</td>\n",
       "      <td>-0.112038</td>\n",
       "      <td>0.006560</td>\n",
       "      <td>0.066492</td>\n",
       "    </tr>\n",
       "    <tr>\n",
       "      <th>_charge_time&gt;4</th>\n",
       "      <td>-0.250401</td>\n",
       "      <td>-0.358327</td>\n",
       "      <td>0.505248</td>\n",
       "      <td>0.065140</td>\n",
       "      <td>-0.156106</td>\n",
       "      <td>0.158157</td>\n",
       "      <td>-0.028635</td>\n",
       "      <td>-0.402603</td>\n",
       "      <td>-0.565751</td>\n",
       "      <td>-0.112038</td>\n",
       "      <td>0.006560</td>\n",
       "      <td>0.066492</td>\n",
       "    </tr>\n",
       "    <tr>\n",
       "      <th>_price&lt;108k</th>\n",
       "      <td>0.388436</td>\n",
       "      <td>0.014170</td>\n",
       "      <td>-0.056028</td>\n",
       "      <td>0.100060</td>\n",
       "      <td>-0.282747</td>\n",
       "      <td>0.505786</td>\n",
       "      <td>-0.058830</td>\n",
       "      <td>-0.010971</td>\n",
       "      <td>0.015182</td>\n",
       "      <td>0.014944</td>\n",
       "      <td>-0.691981</td>\n",
       "      <td>0.130869</td>\n",
       "    </tr>\n",
       "    <tr>\n",
       "      <th>_price&gt;108k</th>\n",
       "      <td>-0.388436</td>\n",
       "      <td>-0.014170</td>\n",
       "      <td>0.056028</td>\n",
       "      <td>-0.100060</td>\n",
       "      <td>0.282747</td>\n",
       "      <td>-0.505786</td>\n",
       "      <td>-0.058830</td>\n",
       "      <td>-0.010971</td>\n",
       "      <td>0.015182</td>\n",
       "      <td>0.014944</td>\n",
       "      <td>-0.691981</td>\n",
       "      <td>0.130869</td>\n",
       "    </tr>\n",
       "    <tr>\n",
       "      <th>_HP&lt;=4</th>\n",
       "      <td>0.346887</td>\n",
       "      <td>-0.326044</td>\n",
       "      <td>-0.022044</td>\n",
       "      <td>0.143988</td>\n",
       "      <td>-0.256587</td>\n",
       "      <td>-0.431635</td>\n",
       "      <td>-0.264900</td>\n",
       "      <td>0.069219</td>\n",
       "      <td>0.089100</td>\n",
       "      <td>-0.645341</td>\n",
       "      <td>0.004768</td>\n",
       "      <td>-0.024711</td>\n",
       "    </tr>\n",
       "    <tr>\n",
       "      <th>_HP&gt;4</th>\n",
       "      <td>-0.346887</td>\n",
       "      <td>0.326044</td>\n",
       "      <td>0.022044</td>\n",
       "      <td>-0.143988</td>\n",
       "      <td>0.256587</td>\n",
       "      <td>0.431635</td>\n",
       "      <td>-0.264900</td>\n",
       "      <td>0.069219</td>\n",
       "      <td>0.089100</td>\n",
       "      <td>-0.645341</td>\n",
       "      <td>0.004768</td>\n",
       "      <td>-0.024711</td>\n",
       "    </tr>\n",
       "    <tr>\n",
       "      <th>_Bike</th>\n",
       "      <td>0.095048</td>\n",
       "      <td>0.001632</td>\n",
       "      <td>0.087198</td>\n",
       "      <td>-0.667336</td>\n",
       "      <td>-0.191206</td>\n",
       "      <td>-0.038251</td>\n",
       "      <td>0.034394</td>\n",
       "      <td>-0.076055</td>\n",
       "      <td>0.138828</td>\n",
       "      <td>-0.028029</td>\n",
       "      <td>0.128497</td>\n",
       "      <td>0.675620</td>\n",
       "    </tr>\n",
       "    <tr>\n",
       "      <th>_Scooter</th>\n",
       "      <td>-0.095048</td>\n",
       "      <td>-0.001632</td>\n",
       "      <td>-0.087198</td>\n",
       "      <td>0.667336</td>\n",
       "      <td>0.191206</td>\n",
       "      <td>0.038251</td>\n",
       "      <td>0.034394</td>\n",
       "      <td>-0.076055</td>\n",
       "      <td>0.138828</td>\n",
       "      <td>-0.028029</td>\n",
       "      <td>0.128497</td>\n",
       "      <td>0.675620</td>\n",
       "    </tr>\n",
       "  </tbody>\n",
       "</table>\n",
       "</div>"
      ],
      "text/plain": [
       "                     PC1       PC2       PC3       PC4       PC5       PC6  \\\n",
       "_battery <3     0.175083  0.479905  0.440675  0.114033 -0.073356 -0.162658   \n",
       "_battery >3    -0.175083 -0.479905 -0.440675 -0.114033  0.073356  0.162658   \n",
       "_Range_pc<111   0.355525 -0.186505  0.198246 -0.081681  0.536570  0.070263   \n",
       "_Range_pc>111  -0.355525  0.186505 -0.198246  0.081681 -0.536570 -0.070263   \n",
       "_charge_time<4  0.250401  0.358327 -0.505248 -0.065140  0.156106 -0.158157   \n",
       "_charge_time>4 -0.250401 -0.358327  0.505248  0.065140 -0.156106  0.158157   \n",
       "_price<108k     0.388436  0.014170 -0.056028  0.100060 -0.282747  0.505786   \n",
       "_price>108k    -0.388436 -0.014170  0.056028 -0.100060  0.282747 -0.505786   \n",
       "_HP<=4          0.346887 -0.326044 -0.022044  0.143988 -0.256587 -0.431635   \n",
       "_HP>4          -0.346887  0.326044  0.022044 -0.143988  0.256587  0.431635   \n",
       "_Bike           0.095048  0.001632  0.087198 -0.667336 -0.191206 -0.038251   \n",
       "_Scooter       -0.095048 -0.001632 -0.087198  0.667336  0.191206  0.038251   \n",
       "\n",
       "                     PC7       PC8       PC9      PC10      PC11      PC12  \n",
       "_battery <3    -0.593365  0.223742 -0.166067  0.241776  0.064967  0.087192  \n",
       "_battery >3    -0.593365  0.223742 -0.166067  0.241776  0.064967  0.087192  \n",
       "_Range_pc<111  -0.268853 -0.526454  0.353419  0.107322  0.019077 -0.117374  \n",
       "_Range_pc>111  -0.268853 -0.526454  0.353419  0.107322  0.019077 -0.117374  \n",
       "_charge_time<4 -0.028635 -0.402603 -0.565751 -0.112038  0.006560  0.066492  \n",
       "_charge_time>4 -0.028635 -0.402603 -0.565751 -0.112038  0.006560  0.066492  \n",
       "_price<108k    -0.058830 -0.010971  0.015182  0.014944 -0.691981  0.130869  \n",
       "_price>108k    -0.058830 -0.010971  0.015182  0.014944 -0.691981  0.130869  \n",
       "_HP<=4         -0.264900  0.069219  0.089100 -0.645341  0.004768 -0.024711  \n",
       "_HP>4          -0.264900  0.069219  0.089100 -0.645341  0.004768 -0.024711  \n",
       "_Bike           0.034394 -0.076055  0.138828 -0.028029  0.128497  0.675620  \n",
       "_Scooter        0.034394 -0.076055  0.138828 -0.028029  0.128497  0.675620  "
      ]
     },
     "execution_count": 61,
     "metadata": {},
     "output_type": "execute_result"
    }
   ],
   "source": [
    "pca = PCA()\n",
    "pca.fit(ev1)\n",
    "\n",
    "# Get the components (loadings)\n",
    "loadings = pca.components_.T\n",
    "# Multiply the loadings by -1 to adjust signs\n",
    "loadings *= -1\n",
    "\n",
    "# Create a DataFrame for the rotation matrix\n",
    "rotation_df = pd.DataFrame(loadings, index=ev1.columns, columns=[f'PC{i+1}' for i in range(loadings.shape[1])])\n",
    "\n",
    "# Display the rotation matrix\n",
    "print(\"Rotation (n x k) = (11 x 11):\\n\")\n",
    "rotation=rotation_df\n",
    "df=rotation_df\n",
    "rotation_df"
   ]
  },
  {
   "cell_type": "code",
   "execution_count": 113,
   "id": "1586bf18-02c3-4f3f-b86b-84010e51f03a",
   "metadata": {},
   "outputs": [],
   "source": [
    "#choosing the model "
   ]
  },
  {
   "cell_type": "code",
   "execution_count": 111,
   "id": "91b37922-c3cb-47c5-b50b-970890d91666",
   "metadata": {},
   "outputs": [
    {
     "data": {
      "text/html": [
       "<div>\n",
       "<style scoped>\n",
       "    .dataframe tbody tr th:only-of-type {\n",
       "        vertical-align: middle;\n",
       "    }\n",
       "\n",
       "    .dataframe tbody tr th {\n",
       "        vertical-align: top;\n",
       "    }\n",
       "\n",
       "    .dataframe thead th {\n",
       "        text-align: right;\n",
       "    }\n",
       "</style>\n",
       "<table border=\"1\" class=\"dataframe\">\n",
       "  <thead>\n",
       "    <tr style=\"text-align: right;\">\n",
       "      <th></th>\n",
       "      <th>_battery &lt;3</th>\n",
       "      <th>_Range_pc&gt;111</th>\n",
       "      <th>_charge_time&lt;4</th>\n",
       "      <th>_price&gt;108k</th>\n",
       "      <th>_HP&lt;=4</th>\n",
       "      <th>_Scooter</th>\n",
       "    </tr>\n",
       "  </thead>\n",
       "  <tbody>\n",
       "    <tr>\n",
       "      <th>0</th>\n",
       "      <td>1</td>\n",
       "      <td>1</td>\n",
       "      <td>0</td>\n",
       "      <td>1</td>\n",
       "      <td>0</td>\n",
       "      <td>1</td>\n",
       "    </tr>\n",
       "    <tr>\n",
       "      <th>1</th>\n",
       "      <td>1</td>\n",
       "      <td>1</td>\n",
       "      <td>1</td>\n",
       "      <td>1</td>\n",
       "      <td>0</td>\n",
       "      <td>1</td>\n",
       "    </tr>\n",
       "    <tr>\n",
       "      <th>2</th>\n",
       "      <td>0</td>\n",
       "      <td>0</td>\n",
       "      <td>0</td>\n",
       "      <td>1</td>\n",
       "      <td>1</td>\n",
       "      <td>1</td>\n",
       "    </tr>\n",
       "    <tr>\n",
       "      <th>3</th>\n",
       "      <td>1</td>\n",
       "      <td>0</td>\n",
       "      <td>1</td>\n",
       "      <td>0</td>\n",
       "      <td>1</td>\n",
       "      <td>1</td>\n",
       "    </tr>\n",
       "    <tr>\n",
       "      <th>4</th>\n",
       "      <td>1</td>\n",
       "      <td>0</td>\n",
       "      <td>1</td>\n",
       "      <td>0</td>\n",
       "      <td>1</td>\n",
       "      <td>1</td>\n",
       "    </tr>\n",
       "  </tbody>\n",
       "</table>\n",
       "</div>"
      ],
      "text/plain": [
       "   _battery <3  _Range_pc>111  _charge_time<4  _price>108k  _HP<=4  _Scooter\n",
       "0            1              1               0            1       0         1\n",
       "1            1              1               1            1       0         1\n",
       "2            0              0               0            1       1         1\n",
       "3            1              0               1            0       1         1\n",
       "4            1              0               1            0       1         1"
      ]
     },
     "execution_count": 111,
     "metadata": {},
     "output_type": "execute_result"
    }
   ],
   "source": [
    "Ev2=ev1[['_battery <3','_Range_pc>111','_charge_time<4','_price>108k','_HP<=4',\n",
    "         '_Scooter']]\n",
    "Ev2.head()"
   ]
  },
  {
   "cell_type": "code",
   "execution_count": 78,
   "id": "3de2e40e-f9a7-4de2-b1ad-1f49e32c7aba",
   "metadata": {},
   "outputs": [
    {
     "data": {
      "text/html": [
       "<div>\n",
       "<style scoped>\n",
       "    .dataframe tbody tr th:only-of-type {\n",
       "        vertical-align: middle;\n",
       "    }\n",
       "\n",
       "    .dataframe tbody tr th {\n",
       "        vertical-align: top;\n",
       "    }\n",
       "\n",
       "    .dataframe thead th {\n",
       "        text-align: right;\n",
       "    }\n",
       "</style>\n",
       "<table border=\"1\" class=\"dataframe\">\n",
       "  <thead>\n",
       "    <tr style=\"text-align: right;\">\n",
       "      <th></th>\n",
       "      <th>PC1</th>\n",
       "      <th>PC2</th>\n",
       "      <th>PC3</th>\n",
       "      <th>PC4</th>\n",
       "      <th>PC5</th>\n",
       "      <th>PC6</th>\n",
       "      <th>PC7</th>\n",
       "      <th>PC8</th>\n",
       "      <th>PC9</th>\n",
       "      <th>PC10</th>\n",
       "      <th>PC11</th>\n",
       "      <th>PC12</th>\n",
       "    </tr>\n",
       "  </thead>\n",
       "  <tbody>\n",
       "    <tr>\n",
       "      <th>_battery &lt;3</th>\n",
       "      <td>0.175083</td>\n",
       "      <td>0.479905</td>\n",
       "      <td>0.440675</td>\n",
       "      <td>0.114033</td>\n",
       "      <td>-0.073356</td>\n",
       "      <td>-0.162658</td>\n",
       "      <td>-0.593365</td>\n",
       "      <td>0.223742</td>\n",
       "      <td>-0.166067</td>\n",
       "      <td>0.241776</td>\n",
       "      <td>0.064967</td>\n",
       "      <td>0.087192</td>\n",
       "    </tr>\n",
       "    <tr>\n",
       "      <th>_battery &gt;3</th>\n",
       "      <td>-0.175083</td>\n",
       "      <td>-0.479905</td>\n",
       "      <td>-0.440675</td>\n",
       "      <td>-0.114033</td>\n",
       "      <td>0.073356</td>\n",
       "      <td>0.162658</td>\n",
       "      <td>-0.593365</td>\n",
       "      <td>0.223742</td>\n",
       "      <td>-0.166067</td>\n",
       "      <td>0.241776</td>\n",
       "      <td>0.064967</td>\n",
       "      <td>0.087192</td>\n",
       "    </tr>\n",
       "    <tr>\n",
       "      <th>_Range_pc&lt;111</th>\n",
       "      <td>0.355525</td>\n",
       "      <td>-0.186505</td>\n",
       "      <td>0.198246</td>\n",
       "      <td>-0.081681</td>\n",
       "      <td>0.536570</td>\n",
       "      <td>0.070263</td>\n",
       "      <td>-0.268853</td>\n",
       "      <td>-0.526454</td>\n",
       "      <td>0.353419</td>\n",
       "      <td>0.107322</td>\n",
       "      <td>0.019077</td>\n",
       "      <td>-0.117374</td>\n",
       "    </tr>\n",
       "    <tr>\n",
       "      <th>_Range_pc&gt;111</th>\n",
       "      <td>-0.355525</td>\n",
       "      <td>0.186505</td>\n",
       "      <td>-0.198246</td>\n",
       "      <td>0.081681</td>\n",
       "      <td>-0.536570</td>\n",
       "      <td>-0.070263</td>\n",
       "      <td>-0.268853</td>\n",
       "      <td>-0.526454</td>\n",
       "      <td>0.353419</td>\n",
       "      <td>0.107322</td>\n",
       "      <td>0.019077</td>\n",
       "      <td>-0.117374</td>\n",
       "    </tr>\n",
       "    <tr>\n",
       "      <th>_charge_time&lt;4</th>\n",
       "      <td>0.250401</td>\n",
       "      <td>0.358327</td>\n",
       "      <td>-0.505248</td>\n",
       "      <td>-0.065140</td>\n",
       "      <td>0.156106</td>\n",
       "      <td>-0.158157</td>\n",
       "      <td>-0.028635</td>\n",
       "      <td>-0.402603</td>\n",
       "      <td>-0.565751</td>\n",
       "      <td>-0.112038</td>\n",
       "      <td>0.006560</td>\n",
       "      <td>0.066492</td>\n",
       "    </tr>\n",
       "    <tr>\n",
       "      <th>_charge_time&gt;4</th>\n",
       "      <td>-0.250401</td>\n",
       "      <td>-0.358327</td>\n",
       "      <td>0.505248</td>\n",
       "      <td>0.065140</td>\n",
       "      <td>-0.156106</td>\n",
       "      <td>0.158157</td>\n",
       "      <td>-0.028635</td>\n",
       "      <td>-0.402603</td>\n",
       "      <td>-0.565751</td>\n",
       "      <td>-0.112038</td>\n",
       "      <td>0.006560</td>\n",
       "      <td>0.066492</td>\n",
       "    </tr>\n",
       "    <tr>\n",
       "      <th>_price&lt;108k</th>\n",
       "      <td>0.388436</td>\n",
       "      <td>0.014170</td>\n",
       "      <td>-0.056028</td>\n",
       "      <td>0.100060</td>\n",
       "      <td>-0.282747</td>\n",
       "      <td>0.505786</td>\n",
       "      <td>-0.058830</td>\n",
       "      <td>-0.010971</td>\n",
       "      <td>0.015182</td>\n",
       "      <td>0.014944</td>\n",
       "      <td>-0.691981</td>\n",
       "      <td>0.130869</td>\n",
       "    </tr>\n",
       "    <tr>\n",
       "      <th>_price&gt;108k</th>\n",
       "      <td>-0.388436</td>\n",
       "      <td>-0.014170</td>\n",
       "      <td>0.056028</td>\n",
       "      <td>-0.100060</td>\n",
       "      <td>0.282747</td>\n",
       "      <td>-0.505786</td>\n",
       "      <td>-0.058830</td>\n",
       "      <td>-0.010971</td>\n",
       "      <td>0.015182</td>\n",
       "      <td>0.014944</td>\n",
       "      <td>-0.691981</td>\n",
       "      <td>0.130869</td>\n",
       "    </tr>\n",
       "    <tr>\n",
       "      <th>_HP&lt;=4</th>\n",
       "      <td>0.346887</td>\n",
       "      <td>-0.326044</td>\n",
       "      <td>-0.022044</td>\n",
       "      <td>0.143988</td>\n",
       "      <td>-0.256587</td>\n",
       "      <td>-0.431635</td>\n",
       "      <td>-0.264900</td>\n",
       "      <td>0.069219</td>\n",
       "      <td>0.089100</td>\n",
       "      <td>-0.645341</td>\n",
       "      <td>0.004768</td>\n",
       "      <td>-0.024711</td>\n",
       "    </tr>\n",
       "    <tr>\n",
       "      <th>_HP&gt;4</th>\n",
       "      <td>-0.346887</td>\n",
       "      <td>0.326044</td>\n",
       "      <td>0.022044</td>\n",
       "      <td>-0.143988</td>\n",
       "      <td>0.256587</td>\n",
       "      <td>0.431635</td>\n",
       "      <td>-0.264900</td>\n",
       "      <td>0.069219</td>\n",
       "      <td>0.089100</td>\n",
       "      <td>-0.645341</td>\n",
       "      <td>0.004768</td>\n",
       "      <td>-0.024711</td>\n",
       "    </tr>\n",
       "    <tr>\n",
       "      <th>_Bike</th>\n",
       "      <td>0.095048</td>\n",
       "      <td>0.001632</td>\n",
       "      <td>0.087198</td>\n",
       "      <td>-0.667336</td>\n",
       "      <td>-0.191206</td>\n",
       "      <td>-0.038251</td>\n",
       "      <td>0.034394</td>\n",
       "      <td>-0.076055</td>\n",
       "      <td>0.138828</td>\n",
       "      <td>-0.028029</td>\n",
       "      <td>0.128497</td>\n",
       "      <td>0.675620</td>\n",
       "    </tr>\n",
       "    <tr>\n",
       "      <th>_Scooter</th>\n",
       "      <td>-0.095048</td>\n",
       "      <td>-0.001632</td>\n",
       "      <td>-0.087198</td>\n",
       "      <td>0.667336</td>\n",
       "      <td>0.191206</td>\n",
       "      <td>0.038251</td>\n",
       "      <td>0.034394</td>\n",
       "      <td>-0.076055</td>\n",
       "      <td>0.138828</td>\n",
       "      <td>-0.028029</td>\n",
       "      <td>0.128497</td>\n",
       "      <td>0.675620</td>\n",
       "    </tr>\n",
       "  </tbody>\n",
       "</table>\n",
       "</div>"
      ],
      "text/plain": [
       "                     PC1       PC2       PC3       PC4       PC5       PC6  \\\n",
       "_battery <3     0.175083  0.479905  0.440675  0.114033 -0.073356 -0.162658   \n",
       "_battery >3    -0.175083 -0.479905 -0.440675 -0.114033  0.073356  0.162658   \n",
       "_Range_pc<111   0.355525 -0.186505  0.198246 -0.081681  0.536570  0.070263   \n",
       "_Range_pc>111  -0.355525  0.186505 -0.198246  0.081681 -0.536570 -0.070263   \n",
       "_charge_time<4  0.250401  0.358327 -0.505248 -0.065140  0.156106 -0.158157   \n",
       "_charge_time>4 -0.250401 -0.358327  0.505248  0.065140 -0.156106  0.158157   \n",
       "_price<108k     0.388436  0.014170 -0.056028  0.100060 -0.282747  0.505786   \n",
       "_price>108k    -0.388436 -0.014170  0.056028 -0.100060  0.282747 -0.505786   \n",
       "_HP<=4          0.346887 -0.326044 -0.022044  0.143988 -0.256587 -0.431635   \n",
       "_HP>4          -0.346887  0.326044  0.022044 -0.143988  0.256587  0.431635   \n",
       "_Bike           0.095048  0.001632  0.087198 -0.667336 -0.191206 -0.038251   \n",
       "_Scooter       -0.095048 -0.001632 -0.087198  0.667336  0.191206  0.038251   \n",
       "\n",
       "                     PC7       PC8       PC9      PC10      PC11      PC12  \n",
       "_battery <3    -0.593365  0.223742 -0.166067  0.241776  0.064967  0.087192  \n",
       "_battery >3    -0.593365  0.223742 -0.166067  0.241776  0.064967  0.087192  \n",
       "_Range_pc<111  -0.268853 -0.526454  0.353419  0.107322  0.019077 -0.117374  \n",
       "_Range_pc>111  -0.268853 -0.526454  0.353419  0.107322  0.019077 -0.117374  \n",
       "_charge_time<4 -0.028635 -0.402603 -0.565751 -0.112038  0.006560  0.066492  \n",
       "_charge_time>4 -0.028635 -0.402603 -0.565751 -0.112038  0.006560  0.066492  \n",
       "_price<108k    -0.058830 -0.010971  0.015182  0.014944 -0.691981  0.130869  \n",
       "_price>108k    -0.058830 -0.010971  0.015182  0.014944 -0.691981  0.130869  \n",
       "_HP<=4         -0.264900  0.069219  0.089100 -0.645341  0.004768 -0.024711  \n",
       "_HP>4          -0.264900  0.069219  0.089100 -0.645341  0.004768 -0.024711  \n",
       "_Bike           0.034394 -0.076055  0.138828 -0.028029  0.128497  0.675620  \n",
       "_Scooter        0.034394 -0.076055  0.138828 -0.028029  0.128497  0.675620  "
      ]
     },
     "execution_count": 78,
     "metadata": {},
     "output_type": "execute_result"
    }
   ],
   "source": [
    "rotation_df"
   ]
  },
  {
   "cell_type": "code",
   "execution_count": 63,
   "id": "1f890ad6-3978-41b5-bf59-bdddfbab92df",
   "metadata": {},
   "outputs": [],
   "source": [
    "# 1.K-Means Clustering"
   ]
  },
  {
   "cell_type": "code",
   "execution_count": 75,
   "id": "b7802782-1d81-4159-bf70-05d1d691573e",
   "metadata": {},
   "outputs": [],
   "source": [
    "kmeans = KMeans(n_clusters=3, random_state=42)\n",
    "kmeans_labels = kmeans.fit_predict(Ev2)\n",
    "kmeans_labels"
   ]
  },
  {
   "cell_type": "code",
   "execution_count": 102,
   "id": "7ffb2aa7-74f5-40b5-a52e-e9d7f1df1847",
   "metadata": {},
   "outputs": [],
   "source": [
    "# Silhouette Score"
   ]
  },
  {
   "cell_type": "code",
   "execution_count": 103,
   "id": "24a5958b-5afc-4eac-be90-62cc1323dab4",
   "metadata": {},
   "outputs": [
    {
     "name": "stdout",
     "output_type": "stream",
     "text": [
      "Silhouette Score: 0.5608876785430924\n"
     ]
    }
   ],
   "source": [
    "silhouette_avg = silhouette_score(Ev2, kmeans_labels)\n",
    "print(f\"Silhouette Score: {silhouette_avg}\")"
   ]
  },
  {
   "cell_type": "code",
   "execution_count": 104,
   "id": "6f0ae4cb-e7a1-421f-bbce-7fc9c5bed6f6",
   "metadata": {},
   "outputs": [],
   "source": [
    "# 2. Davies-Bouldin Index"
   ]
  },
  {
   "cell_type": "code",
   "execution_count": 105,
   "id": "a61cebae-efa6-4262-be51-250eb6c5324e",
   "metadata": {},
   "outputs": [
    {
     "name": "stdout",
     "output_type": "stream",
     "text": [
      "Davies-Bouldin Index: 0.7830949234982834\n"
     ]
    }
   ],
   "source": [
    "db_score = davies_bouldin_score(Ev2, kmeans_labels)\n",
    "print(f\"Davies-Bouldin Index: {db_score}\")"
   ]
  },
  {
   "cell_type": "code",
   "execution_count": 71,
   "id": "df2ee87c-1f22-4434-89fa-40f55efae169",
   "metadata": {},
   "outputs": [],
   "source": [
    "# DBSCAN (Density-Based Spatial Clustering of Applications with Noise)"
   ]
  },
  {
   "cell_type": "code",
   "execution_count": 106,
   "id": "4a9ab798-9e5d-4374-97ae-5dcfdf69185e",
   "metadata": {},
   "outputs": [],
   "source": [
    "dbscan = DBSCAN(eps=0.5, min_samples=5)\n",
    "dbscan_labels = dbscan.fit_predict(Ev2)"
   ]
  },
  {
   "cell_type": "code",
   "execution_count": 107,
   "id": "e0db18f2-6d5b-4790-ba9b-fd29153b769e",
   "metadata": {},
   "outputs": [
    {
     "name": "stdout",
     "output_type": "stream",
     "text": [
      "Silhouette Score: 0.4957405143995488\n",
      "Davies-Bouldin Index: 0.957793375347362\n"
     ]
    }
   ],
   "source": [
    "silhouette_avg = silhouette_score(Ev2, dbscan_labels)\n",
    "print(f\"Silhouette Score: {silhouette_avg}\")\n",
    "db_score = davies_bouldin_score(Ev2, dbscan_labels)\n",
    "print(f\"Davies-Bouldin Index: {db_score}\")"
   ]
  },
  {
   "cell_type": "code",
   "execution_count": 74,
   "id": "2e429e66-79b7-4521-886a-aaf6b1eceb69",
   "metadata": {},
   "outputs": [],
   "source": [
    "# Gaussian Mixture Model"
   ]
  },
  {
   "cell_type": "code",
   "execution_count": 109,
   "id": "e35df985-c0f6-4bc5-9f32-0df711c321c5",
   "metadata": {},
   "outputs": [],
   "source": [
    "gmm = GaussianMixture(n_components=3, random_state=42)\n",
    "gmm_labels = gmm.fit_predict(Ev2)"
   ]
  },
  {
   "cell_type": "code",
   "execution_count": 110,
   "id": "41f92d5f-f264-4337-82d5-bee55681ead3",
   "metadata": {},
   "outputs": [
    {
     "name": "stdout",
     "output_type": "stream",
     "text": [
      "Silhouette Score: 0.5608876785430924\n",
      "Davies-Bouldin Index: 0.7830949234982834\n"
     ]
    }
   ],
   "source": [
    "silhouette_avg = silhouette_score(Ev2, gmm_labels)\n",
    "print(f\"Silhouette Score: {silhouette_avg}\")\n",
    "db_score = davies_bouldin_score(Ev2, gmm_labels)\n",
    "print(f\"Davies-Bouldin Index: {db_score}\")"
   ]
  },
  {
   "cell_type": "code",
   "execution_count": 114,
   "id": "63766512-e116-4410-91e6-901602135f51",
   "metadata": {},
   "outputs": [],
   "source": [
    "# number of clusters to be considered"
   ]
  },
  {
   "cell_type": "code",
   "execution_count": 116,
   "id": "6482c8b5-4535-45d0-a6f5-81e2854fc1da",
   "metadata": {},
   "outputs": [
    {
     "data": {
      "image/png": "[encoded data removed]",
      "text/plain": [
       "<Figure size 640x480 with 1 Axes>"
      ]
     },
     "metadata": {},
     "output_type": "display_data"
    }
   ],
   "source": [
    "# List to hold the WCSS values for each number of clusters\n",
    "wcss = []\n",
    "\n",
    "# Test KMeans with different numbers of clusters\n",
    "for i in range(1, 11):  # Typically you test between 1 and 10 clusters\n",
    "    kmeans = KMeans(n_clusters=i, random_state=42)\n",
    "    kmeans.fit(Ev2)\n",
    "    wcss.append(kmeans.inertia_)  # Inertia is the WCSS\n",
    "\n",
    "# Plot the elbow curve\n",
    "plt.plot(range(1, 11), wcss)\n",
    "plt.title('Elbow Method')\n",
    "plt.xlabel('Number of Clusters')\n",
    "plt.ylabel('WCSS (Inertia)')\n",
    "plt.grid()\n",
    "plt.show()"
   ]
  },
  {
   "cell_type": "code",
   "execution_count": 49,
   "id": "eb02e77c-f28b-4057-beed-7eac56fae89d",
   "metadata": {},
   "outputs": [],
   "source": [
    "# Segment separation plot using principal components 1 and 2"
   ]
  },
  {
   "cell_type": "code",
   "execution_count": 82,
   "id": "e2271a60-5556-4407-8499-675e8ff9c1ef",
   "metadata": {},
   "outputs": [],
   "source": [
    "labels=['_battery <3','_Range_pc>111','_charge_time<4','_price>108k','_HP<=4','_Scooter']"
   ]
  },
  {
   "cell_type": "code",
   "execution_count": 83,
   "id": "d79e7b85-ae4f-4ca2-903f-c42f0c74727d",
   "metadata": {},
   "outputs": [
    {
     "name": "stdout",
     "output_type": "stream",
     "text": [
      "Rotation (n x k) = (11 x 11):\n",
      "\n"
     ]
    },
    {
     "data": {
      "text/html": [
       "<div>\n",
       "<style scoped>\n",
       "    .dataframe tbody tr th:only-of-type {\n",
       "        vertical-align: middle;\n",
       "    }\n",
       "\n",
       "    .dataframe tbody tr th {\n",
       "        vertical-align: top;\n",
       "    }\n",
       "\n",
       "    .dataframe thead th {\n",
       "        text-align: right;\n",
       "    }\n",
       "</style>\n",
       "<table border=\"1\" class=\"dataframe\">\n",
       "  <thead>\n",
       "    <tr style=\"text-align: right;\">\n",
       "      <th></th>\n",
       "      <th>PC1</th>\n",
       "      <th>PC2</th>\n",
       "      <th>PC3</th>\n",
       "      <th>PC4</th>\n",
       "      <th>PC5</th>\n",
       "      <th>PC6</th>\n",
       "    </tr>\n",
       "  </thead>\n",
       "  <tbody>\n",
       "    <tr>\n",
       "      <th>_battery &lt;3</th>\n",
       "      <td>0.247605</td>\n",
       "      <td>0.678689</td>\n",
       "      <td>0.623208</td>\n",
       "      <td>0.161267</td>\n",
       "      <td>-0.103741</td>\n",
       "      <td>-0.230033</td>\n",
       "    </tr>\n",
       "    <tr>\n",
       "      <th>_Range_pc&gt;111</th>\n",
       "      <td>-0.502789</td>\n",
       "      <td>0.263758</td>\n",
       "      <td>-0.280363</td>\n",
       "      <td>0.115515</td>\n",
       "      <td>-0.758825</td>\n",
       "      <td>-0.099367</td>\n",
       "    </tr>\n",
       "    <tr>\n",
       "      <th>_charge_time&lt;4</th>\n",
       "      <td>0.354120</td>\n",
       "      <td>0.506751</td>\n",
       "      <td>-0.714528</td>\n",
       "      <td>-0.092122</td>\n",
       "      <td>0.220767</td>\n",
       "      <td>-0.223667</td>\n",
       "    </tr>\n",
       "    <tr>\n",
       "      <th>_price&gt;108k</th>\n",
       "      <td>-0.549331</td>\n",
       "      <td>-0.020039</td>\n",
       "      <td>0.079235</td>\n",
       "      <td>-0.141507</td>\n",
       "      <td>0.399865</td>\n",
       "      <td>-0.715290</td>\n",
       "    </tr>\n",
       "    <tr>\n",
       "      <th>_HP&lt;=4</th>\n",
       "      <td>0.490573</td>\n",
       "      <td>-0.461096</td>\n",
       "      <td>-0.031175</td>\n",
       "      <td>0.203630</td>\n",
       "      <td>-0.362868</td>\n",
       "      <td>-0.610424</td>\n",
       "    </tr>\n",
       "    <tr>\n",
       "      <th>_Scooter</th>\n",
       "      <td>-0.134419</td>\n",
       "      <td>-0.002308</td>\n",
       "      <td>-0.123316</td>\n",
       "      <td>0.943755</td>\n",
       "      <td>0.270407</td>\n",
       "      <td>0.054096</td>\n",
       "    </tr>\n",
       "  </tbody>\n",
       "</table>\n",
       "</div>"
      ],
      "text/plain": [
       "                     PC1       PC2       PC3       PC4       PC5       PC6\n",
       "_battery <3     0.247605  0.678689  0.623208  0.161267 -0.103741 -0.230033\n",
       "_Range_pc>111  -0.502789  0.263758 -0.280363  0.115515 -0.758825 -0.099367\n",
       "_charge_time<4  0.354120  0.506751 -0.714528 -0.092122  0.220767 -0.223667\n",
       "_price>108k    -0.549331 -0.020039  0.079235 -0.141507  0.399865 -0.715290\n",
       "_HP<=4          0.490573 -0.461096 -0.031175  0.203630 -0.362868 -0.610424\n",
       "_Scooter       -0.134419 -0.002308 -0.123316  0.943755  0.270407  0.054096"
      ]
     },
     "execution_count": 83,
     "metadata": {},
     "output_type": "execute_result"
    }
   ],
   "source": [
    "pca = PCA()\n",
    "pca.fit(Ev2)\n",
    "\n",
    "# Get the components (loadings)\n",
    "loadings = pca.components_.T\n",
    "# Multiply the loadings by -1 to adjust signs\n",
    "loadings *= -1\n",
    "\n",
    "# Create a DataFrame for the rotation matrix\n",
    "rotation_df1 = pd.DataFrame(loadings, index=Ev2.columns, columns=[f'PC{i+1}' for i in range(loadings.shape[1])])\n",
    "\n",
    "# Display the rotation matrix\n",
    "print(\"Rotation (n x k) = (11 x 11):\\n\")\n",
    "rotation=rotation_df\n",
    "df=rotation_df\n",
    "rotation_df1"
   ]
  },
  {
   "cell_type": "code",
   "execution_count": 85,
   "id": "943c46b6-53d6-406d-b8c5-65f883e78db1",
   "metadata": {},
   "outputs": [],
   "source": [
    "pca_datas=pd.DataFrame()"
   ]
  },
  {
   "cell_type": "code",
   "execution_count": 50,
   "id": "76f9f5e5-a87c-4ec3-9f5d-6ff5971740e0",
   "metadata": {},
   "outputs": [],
   "source": [
    "# Segment separation plot using principal components 1 and 2"
   ]
  },
  {
   "cell_type": "code",
   "execution_count": 126,
   "id": "d2540a67-4cb3-476c-b6a3-05d166f91b07",
   "metadata": {},
   "outputs": [
    {
     "data": {
      "image/png": "[encoded data removed]",
      "text/plain": [
       "<Figure size 1000x800 with 1 Axes>"
      ]
     },
     "metadata": {},
     "output_type": "display_data"
    }
   ],
   "source": [
    "# Clustering into 4 segments using KMeans\n",
    "X = Ev2\n",
    "kmeans = KMeans(n_clusters=3, random_state=42)\n",
    "pca_datas['cluster'] = kmeans.fit_predict(X)\n",
    "\n",
    "# Perform PCA to reduce dimensions to 2 for visualization\n",
    "pca = PCA(n_components=2)\n",
    "pca_components = pca.fit_transform(X)\n",
    "pca_datas['pca1'] = pca_components[:, 0]\n",
    "pca_datas['pca2'] = pca_components[:, 1]\n",
    "scaling_factor = 3  # Adjust this value to make arrows larger\n",
    "# Get the loadings (arrows for original features)\n",
    "loadings = pca.components_.T * np.sqrt(pca.explained_variance_)* scaling_factor\n",
    "\n",
    "# Plot PCA components and color by cluster\n",
    "plt.figure(figsize=(10, 8))\n",
    "sns.scatterplot(x='pca1', y='pca2', hue='cluster', data=pca_datas, palette='Set1', style='cluster')\n",
    "\n",
    "# Plot the centers of the clusters\n",
    "cluster_centers_pca = pca.transform(kmeans.cluster_centers_)\n",
    "for i, center in enumerate(cluster_centers_pca):\n",
    "    plt.scatter(center[0], center[1], s=200, c='black', marker='o')\n",
    "    plt.text(center[0], center[1], str(i + 1), fontsize=12, color='white', weight='bold',\n",
    "             ha='center', va='center')\n",
    "\n",
    "# Add arrows for the original features\n",
    "features = X.columns\n",
    "for i, feature in enumerate(features):\n",
    "    plt.arrow(0, 0, loadings[i, 0], loadings[i, 1], color='red', alpha=0.7, head_width=0.05,head_length=0.15,)\n",
    "    plt.text(loadings[i, 0] * 1.15, loadings[i, 1] * 1.15, feature, color='red', ha='center', va='center')\n",
    "\n",
    "# Add labels for the PCA axes\n",
    "plt.xlabel('Principal Component 1')\n",
    "plt.ylabel('Principal Component 2')\n",
    "\n",
    "# Show plot\n",
    "plt.title('Segment Separation Plot with PCA and Feature Arrows')\n",
    "plt.grid()\n",
    "plt.show()"
   ]
  },
  {
   "cell_type": "code",
   "execution_count": null,
   "id": "d0d26751-e528-4d26-bc13-db2eaea37254",
   "metadata": {},
   "outputs": [],
   "source": []
  }
 ],
 "metadata": {
  "kernelspec": {
   "display_name": "Python 3 (ipykernel)",
   "language": "python",
   "name": "python3"
  },
  "language_info": {
   "codemirror_mode": {
    "name": "ipython",
    "version": 3
   },
   "file_extension": ".py",
   "mimetype": "text/x-python",
   "name": "python",
   "nbconvert_exporter": "python",
   "pygments_lexer": "ipython3",
   "version": "3.12.1"
  }
 },
 "nbformat": 4,
 "nbformat_minor": 5
}
